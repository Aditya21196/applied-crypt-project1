{
 "cells": [
  {
   "cell_type": "code",
   "execution_count": 1,
   "id": "881bfc8d",
   "metadata": {},
   "outputs": [],
   "source": [
    "import matplotlib.pyplot as plt\n",
    "import numpy as np\n",
    "from scipy import stats\n",
    "import pandas as pd\n",
    "import random\n",
    "import bisect\n",
    "import re\n",
    "import numpy as np\n",
    "\n",
    "\n",
    "from collections import defaultdict\n",
    "from collections import Counter\n",
    "import random\n",
    "import sys\n",
    "import pickle\n",
    "\n",
    "sys.path.insert(0,'../decryption')\n",
    "sys.path.insert(0,'../encryption')\n",
    "sys.path.insert(0,'../dictionaries')\n",
    "\n",
    "import encrypt\n",
    "import decrypt\n",
    "import alphabet\n",
    "import frequency\n",
    "\n",
    "_ALPHABET = \" abcdefghijklmnopqrstuvwxyz\""
   ]
  },
  {
   "cell_type": "code",
   "execution_count": 2,
   "id": "7ffe08bf",
   "metadata": {},
   "outputs": [],
   "source": [
    "# simulation of problem\n",
    "TEST_KEY_MAPPING = encrypt.generate_key_mapping()\n",
    "TEST_CHAR_MAPPING = encrypt.char_key_mapping_from_key_mapping(TEST_KEY_MAPPING)\n",
    "\n",
    "assert len(set(TEST_KEY_MAPPING)) == 27\n",
    "\n",
    "TEST_PLAIN_TEXTS = []\n",
    "with open('../dictionaries/official_dictionary_1_cleaned.txt','r') as f:\n",
    "    content = f.readlines()\n",
    "    for line in content:\n",
    "        TEST_PLAIN_TEXTS.append(line.strip())\n",
    "\n",
    "TEST_PLAIN_TEXTS[3] += ' '\n",
    "TEST_PROBABILITY = 0.1\n",
    "ciphers = [encrypt.encrypt(msg,TEST_KEY_MAPPING,TEST_PROBABILITY) for msg in TEST_PLAIN_TEXTS]\n",
    "\n",
    "# pick a random cipher and start working with it. (We should not know the original plain text)\n",
    "r = random.randint(0,len(ciphers)-1)\n",
    "cipher_txt = ciphers[r]\n",
    "test_plain_text = TEST_PLAIN_TEXTS[r]"
   ]
  },
  {
   "cell_type": "code",
   "execution_count": 3,
   "id": "6cce6c47",
   "metadata": {},
   "outputs": [],
   "source": [
    "with open('../dictionaries/official_dictionary_2_cleaned.txt') as file:\n",
    "    lines = file.readlines()\n",
    "\n",
    "DICTIONARY_LIST = []\n",
    "DICTIONARY_SET = set()\n",
    "\n",
    "for line in lines:\n",
    "    line = re.sub('[^A-Za-z0-9]+', '', line.strip())\n",
    "    DICTIONARY_LIST.append(line)\n",
    "    DICTIONARY_SET.add(line)"
   ]
  },
  {
   "cell_type": "code",
   "execution_count": 4,
   "id": "de9dc356",
   "metadata": {},
   "outputs": [],
   "source": [
    "def generate_test_one_cipher(p):\n",
    "    num_key_mapping = encrypt.generate_key_mapping()\n",
    "    char_key_mapping = encrypt.char_key_mapping_from_key_mapping(num_key_mapping)\n",
    "    r = random.randint(0,len(ciphers)-1)\n",
    "    cipher = encrypt.encrypt(TEST_PLAIN_TEXTS[r],num_key_mapping,p)\n",
    "    return TEST_PLAIN_TEXTS[r],cipher,char_key_mapping,num_key_mapping\n",
    "\n",
    "def generate_test_two_cipher(p):\n",
    "    num_key_mapping = encrypt.generate_key_mapping()\n",
    "    char_key_mapping = encrypt.char_key_mapping_from_key_mapping(num_key_mapping)\n",
    "    plain_txt = \" \".join(random.choices(DICTIONARY_LIST,k=200))[:500]\n",
    "    cipher = encrypt.encrypt(plain_txt,num_key_mapping,p)\n",
    "    return plain_txt,cipher,char_key_mapping,num_key_mapping\n",
    "    "
   ]
  },
  {
   "cell_type": "code",
   "execution_count": 5,
   "id": "7a82ae2e",
   "metadata": {},
   "outputs": [],
   "source": [
    "plain_txt,cipher,char_key_mapping,num_key_mapping = generate_test_two_cipher(0.2)"
   ]
  },
  {
   "cell_type": "code",
   "execution_count": 6,
   "id": "08cac19a",
   "metadata": {},
   "outputs": [],
   "source": [
    "def build_rel_dist(text):\n",
    "    rel_dist = defaultdict(list)\n",
    "    rel_num = defaultdict(list)\n",
    "    for j,c in enumerate(text):\n",
    "        rel_dist[c].append((j/len(text)))\n",
    "        rel_num[c].append(j)\n",
    "    return rel_dist,rel_num\n",
    "\n",
    "def get_diff(arr):\n",
    "    diff = []\n",
    "    for i in range(1,len(arr)):\n",
    "        diff.append(round(arr[i]-arr[i-1],4))\n",
    "    return diff\n",
    "\n",
    "def get_char_diffs_data(char_rel_num,rel_num,l):\n",
    "    left = []\n",
    "    right = []\n",
    "    avg_num_diff = []\n",
    "    for i,num in enumerate(rel_num):\n",
    "        char_closest_right = bisect.bisect_left(char_rel_num,num)\n",
    "        char_closest_left = char_closest_right-1\n",
    "        if char_closest_left == -1:\n",
    "            lo = 0\n",
    "        else:\n",
    "            lo = char_rel_num[char_closest_left]\n",
    "        if char_closest_right == len(char_rel_num):\n",
    "            hi = l\n",
    "        else:\n",
    "            hi = char_rel_num[char_closest_right]\n",
    "        left.append(num-lo)\n",
    "        right.append(hi-num)\n",
    "        avg_num_diff.append(right[-1] - left[-1])\n",
    "        \n",
    "    return left,right,avg_num_diff\n",
    "\n",
    "def append(data,df):\n",
    "    l = len(df)\n",
    "    for k,v in data.items():\n",
    "        df.loc[l,k] = v\n",
    "        \n",
    "def populate_dist_data(dist,prefix,data = dict()):\n",
    "    data[prefix + '_mean'] = np.mean(dist)\n",
    "    data[prefix + '_std'] = np.std(dist)\n",
    "    \n",
    "    max_moments = 3\n",
    "    for i in range(2,max_moments+1):\n",
    "        data[prefix+str(i)+'_num_moment'] = stats.moment(dist,i)\n",
    "    \n",
    "    return data\n",
    "\n",
    "\n",
    "# features: space character frequency, last character frequency, difference from 500\n",
    "# stats of space char freq diff, last char freq diff\n",
    "# stats of char diffs data of last char and space char\n",
    "# covariance of space char and last char data\n",
    "\n",
    "def get_test_diff_data(c_rel_dist,c_rel_num,c_rel_num_diff,c_rel_dist_diff,space_data_c,last_char_mapping):\n",
    "    data = dict()\n",
    "    data['space_char_freq'] = len(c_rel_num[space_char])\n",
    "    data['last_char_freq'] = len(c_rel_num[last_char_mapping])\n",
    "    data['diff'] = len(cipher) - 500\n",
    "\n",
    "    populate_dist_data(c_rel_num_diff[space_char],'space_diff',data)\n",
    "    populate_dist_data(c_rel_num_diff[last_char_mapping],'last_char_diff',data)\n",
    "\n",
    "    l = min(len(c_rel_num[space_char]),len(c_rel_num[last_char_mapping]))\n",
    "    if l>1:\n",
    "        data['last_space_num_first_cov'] = np.cov(c_rel_num[space_char][:l],c_rel_num[last_char_mapping][:l])[0][1]\n",
    "    return data\n",
    "    "
   ]
  },
  {
   "cell_type": "code",
   "execution_count": 7,
   "id": "903cde5f",
   "metadata": {},
   "outputs": [],
   "source": [
    "# get distributions for cipher\n",
    "c_rel_dist,c_rel_num = build_rel_dist(cipher)\n",
    "c_rel_num_diff = defaultdict(list,{k:get_diff(v) for k,v in c_rel_num.items()})\n",
    "c_rel_dist_diff = defaultdict(list,{k:get_diff(v) for k,v in c_rel_dist.items()})\n",
    "\n",
    "space_char = decrypt.get_space_key_value(cipher)\n",
    "space_data_c = defaultdict(list,{c:get_char_diffs_data(c_rel_num[space_char],c_rel_num[c],len(cipher)) for c in _ALPHABET})\n",
    "\n",
    "last_char_mapping = cipher[-1]\n",
    "last_char_data_c = defaultdict(list,{c:get_char_diffs_data(c_rel_num[last_char_mapping],c_rel_num[c],len(cipher)) for c in _ALPHABET})\n",
    "    "
   ]
  },
  {
   "cell_type": "code",
   "execution_count": 8,
   "id": "d4a652fd",
   "metadata": {},
   "outputs": [],
   "source": [
    "cols = [\n",
    "    'space_char_freq',\n",
    "     'last_char_freq',\n",
    "     'diff',\n",
    "     'space_diff_mean',\n",
    "     'space_diff_std',\n",
    "     'space_diff2_num_moment',\n",
    "     'space_diff3_num_moment',\n",
    "     'last_char_diff_mean',\n",
    "     'last_char_diff_std',\n",
    "     'last_char_diff2_num_moment',\n",
    "     'last_char_diff3_num_moment',\n",
    "     'last_space_num_first_cov',\n",
    "        'result'\n",
    "]\n"
   ]
  },
  {
   "cell_type": "code",
   "execution_count": 9,
   "id": "8ce25ece",
   "metadata": {},
   "outputs": [],
   "source": [
    "def iter_tests(p,num):\n",
    "    for _ in range(num):\n",
    "        plain_txt,cipher,char_key_mapping,num_key_mapping = generate_test_one_cipher(p)\n",
    "        yield plain_txt,cipher,char_key_mapping,num_key_mapping,True\n",
    "        \n",
    "        plain_txt,cipher,char_key_mapping,num_key_mapping = generate_test_two_cipher(p)\n",
    "        yield plain_txt,cipher,char_key_mapping,num_key_mapping,False\n",
    "\n",
    "def iter_prob_tests(pmin,pmax,step,num):\n",
    "    for prob in range(pmin,pmax+1,step):\n",
    "        print('generating for prob',prob)\n",
    "        for plain_txt,cipher,char_key_mapping,num_key_mapping,result in iter_tests(prob/100,num):\n",
    "            yield plain_txt,cipher,char_key_mapping,num_key_mapping,result"
   ]
  },
  {
   "cell_type": "code",
   "execution_count": 72,
   "id": "29f8af47",
   "metadata": {
    "scrolled": true
   },
   "outputs": [
    {
     "name": "stdout",
     "output_type": "stream",
     "text": [
      "generating for prob 36\n",
      "generating for prob 37\n",
      "generating for prob 38\n",
      "generating for prob 39\n",
      "generating for prob 40\n",
      "generating for prob 41\n",
      "generating for prob 42\n",
      "generating for prob 43\n",
      "generating for prob 44\n",
      "generating for prob 45\n",
      "generating for prob 46\n",
      "generating for prob 47\n",
      "generating for prob 48\n",
      "generating for prob 49\n",
      "generating for prob 50\n"
     ]
    }
   ],
   "source": [
    "# df = pd.DataFrame(columns = cols)\n",
    "for plain_txt,cipher,char_key_mapping,num_key_mapping,result in iter_prob_tests(36,50,1,300):\n",
    "    # get distributions for cipher\n",
    "    c_rel_dist,c_rel_num = build_rel_dist(cipher)\n",
    "    c_rel_num_diff = defaultdict(list,{k:get_diff(v) for k,v in c_rel_num.items()})\n",
    "    c_rel_dist_diff = defaultdict(list,{k:get_diff(v) for k,v in c_rel_dist.items()})\n",
    "\n",
    "    space_char = decrypt.get_space_key_value(cipher)\n",
    "    space_data_c = defaultdict(list,{c:get_char_diffs_data(c_rel_num[space_char],c_rel_num[c],len(cipher)) for c in _ALPHABET})\n",
    "\n",
    "    last_char_mapping = cipher[-1]\n",
    "    last_char_data_c = defaultdict(list,{c:get_char_diffs_data(c_rel_num[last_char_mapping],c_rel_num[c],len(cipher)) for c in _ALPHABET})\n",
    "    \n",
    "    data = get_test_diff_data(c_rel_dist,c_rel_num,c_rel_num_diff,c_rel_dist_diff,space_data_c,last_char_mapping)\n",
    "    data['result'] = result\n",
    "    \n",
    "    append(data,df)\n",
    "    \n",
    "    "
   ]
  },
  {
   "cell_type": "code",
   "execution_count": 73,
   "id": "df3fb59b",
   "metadata": {},
   "outputs": [],
   "source": [
    "df = df.fillna(0)"
   ]
  },
  {
   "cell_type": "code",
   "execution_count": 74,
   "id": "206350fb",
   "metadata": {},
   "outputs": [],
   "source": [
    "# build a model\n",
    "import torch\n",
    "from torchvision import datasets, models, transforms\n",
    "from sklearn.model_selection import train_test_split\n",
    "from sklearn.preprocessing import StandardScaler\n",
    "from torch.utils.data import Dataset, DataLoader, TensorDataset"
   ]
  },
  {
   "cell_type": "code",
   "execution_count": 75,
   "id": "abcfdd6c",
   "metadata": {},
   "outputs": [],
   "source": [
    "output_idx = list(df.columns).index('result')\n",
    "input_cols = list(df.columns)\n",
    "input_cols.remove('result')\n",
    "X = df.loc[:,input_cols].values\n",
    "y = df.iloc[:,output_idx].values.reshape(-1,1).astype(np.float64)\n",
    "\n",
    "\n",
    "X_train_raw, X_test_raw, y_train, y_test = train_test_split(X, y, test_size=0.20)\n",
    "num_feat = X_train_raw.shape[1]\n",
    "\n",
    "scaler = StandardScaler()\n",
    "scaler.fit(X_train_raw)\n",
    "X_train = torch.from_numpy(scaler.transform(X_train_raw)).float()\n",
    "X_test = torch.from_numpy(scaler.transform(X_test_raw)).float()\n",
    "y_train = torch.from_numpy(y_train).float()\n",
    "y_test = torch.from_numpy(y_test).float()"
   ]
  },
  {
   "cell_type": "code",
   "execution_count": 76,
   "id": "05bb18cb",
   "metadata": {},
   "outputs": [],
   "source": [
    "train_dataset = TensorDataset(X_train,y_train) # create your datset\n",
    "train_dataloader = DataLoader(train_dataset,batch_size=16,shuffle=True) # create your dataloader\n",
    "\n",
    "test_dataset = TensorDataset(X_test,y_test) # create your datset\n",
    "test_dataloader = DataLoader(test_dataset,batch_size=16,shuffle=True) # create your dataloader"
   ]
  },
  {
   "cell_type": "code",
   "execution_count": 77,
   "id": "259e9fd7",
   "metadata": {},
   "outputs": [],
   "source": [
    "num_feat = len(X_train[0])"
   ]
  },
  {
   "cell_type": "code",
   "execution_count": 78,
   "id": "ea1d81b6",
   "metadata": {},
   "outputs": [],
   "source": [
    "\n",
    "\n",
    "num_feat = len(X_train[0])\n",
    "class NeuralNet(torch.nn.Module): \n",
    "    def __init__(self):\n",
    "        super(NeuralNet,self).__init__()\n",
    "\n",
    "        self.relu = torch.nn.ReLU()\n",
    "        \n",
    "        self.lin1 = torch.nn.Linear(num_feat, 16)\n",
    "        \n",
    "        self.lin2 =torch.nn.Linear(16, 64)\n",
    "        \n",
    "        self.lin3 =torch.nn.Linear(64, 16)\n",
    "        \n",
    "        self.lin4 =torch.nn.Linear(16, 1)\n",
    "        \n",
    "        self.out = torch.nn.Sigmoid()\n",
    "        \n",
    "        self.float()\n",
    "        \n",
    "    def forward(self, x):\n",
    "        x = self.lin1(x)\n",
    "        x = self.relu(x)\n",
    "        \n",
    "        x = self.lin2(x)\n",
    "        x = self.relu(x)\n",
    "        \n",
    "        x = self.lin3(x)\n",
    "        x = self.relu(x)\n",
    "        \n",
    "        x = self.lin4(x)\n",
    "        x = self.out(x)\n",
    "        \n",
    "        return x\n",
    "\n",
    "net = NeuralNet()\n",
    "loss = torch.nn.BCELoss() # pass output, target\n",
    "optimizer = torch.optim.Adam(net.parameters(), lr=0.002)\n"
   ]
  },
  {
   "cell_type": "code",
   "execution_count": 88,
   "id": "1448c850",
   "metadata": {},
   "outputs": [
    {
     "data": {
      "text/plain": [
       "['underwaists wayfarings fluty analgia refuels transcribing nibbled okra buttonholer venalness hamlet praus apprisers presifted cubital walloper dissembler bunting wizardries squirrel preselect befitted licensee encumbrances proliferations tinkerer egrets recourse churl kolinskies ionospheric docents unnatural scuffler muches petulant acorns subconscious xyster tunelessly boners slag amazement intercapillary manse unsay embezzle stuccoer dissembles batwing valediction iceboxes ketchups phonily con',\n",
       " 'rhomb subrents brasiers render avg tote lesbian dibbers jeopardy struggling urogram furrowed hydrargyrum advertizing cheroots goons congratulation assaulters ictuses indurates wingovers relishes briskly livelihoods inflatable serialized lockboxes cowers holster conciliating parentage yowing restores conformities marted barrettes graphically overdevelop sublimely chokey chinches abstracts rights hockshops bourgeoisie coalition translucent fiascoes panzer mucus capacitated stereotyper omahas produ',\n",
       " 'yorkers peccaries agenda beshrews outboxing biding herons liturgies nonconciliatory elliptical confidants concealable teacups chairmanning proems ecclesiastically shafting nonpossessively doughboy inclusion linden zebroid parabolic misadventures fanciers grovelers requiters catmints hyped necklace rootstock rigorously indissolubility universally burrowers underproduced disillusionment wrestling yellowbellied sherpa unburnt jewelry grange dicker overheats daphnia arteriosclerotic landsat jongleur',\n",
       " 'cygnets chatterers pauline passive expounders cordwains caravel antidisestablishmentarianism syllabubs purled hangdogs clonic murmurers admirable subdialects lockjaws unpatentable jagging negotiated impersonates mammons chumminess semi pinner comprised managership conus turned netherlands temporariness languishers aerate sadists chemistry migraine froggiest sounding rapidly shelving maligning shriek faeries misogynist clarities oversight doylies remodeler tauruses prostrated frugging comestible ',\n",
       " 'ovulatory geriatric hijack nonintoxicants prophylactic nonprotective skyhook warehouser paganized brigading european sassier antipasti tallyho warmer portables selling scheming amirate flanker photosensitizer multistage utile paralyzes indexer backrests tarmac doles siphoned casavas mudslinging nonverbal weevil arbitral painted vespertine plexiglass tanker seaworthiness uninterested anathematizing conduces terbiums wheelbarrow kabalas stagnation briskets counterclockwise hearthsides spuriously s']"
      ]
     },
     "execution_count": 88,
     "metadata": {},
     "output_type": "execute_result"
    }
   ],
   "source": [
    "TEST_PLAIN_TEXTS"
   ]
  },
  {
   "cell_type": "code",
   "execution_count": 87,
   "id": "53f208d5",
   "metadata": {},
   "outputs": [
    {
     "data": {
      "text/plain": [
       "('underwaists wayfarings fluty analgia refuels transcribing nibbled okra buttonholer venalness hamlet praus apprisers presifted cubital walloper dissembler bunting wizardries squirrel preselect befitted licensee encumbrances proliferations tinkerer egrets recourse churl kolinskies ionospheric docents unnatural scuffler muches petulant acorns subconscious xyster tunelessly boners slag amazement intercapillary manse unsay embezzle stuccoer dissembles batwing valediction iceboxes ketchups phonily con',\n",
       " 'jkmypigobwcbqiguhogpokebqhtjcuqgkgteogqpyhjkytbqcfpgkbwpovokkeqkovvtymqxrpgqvjccxknoxltypqachy kgtkykbbqngaldtycqzpgjbqgzzpobypbqzpybohcymqwjvocgntqigttbxztyepqmobvbylvtypqvjkcokeqgiofgpmcpoybqb wjoppytqzpybytywcqvyhoccypmqtowykbyyqoykwjlvpgkwybqzpxtohyypgjcoxkobqcopkrypypqye txpycbqpywrxjpbyqvwnjptqrxttokbroycbqqoxkxbzfnypowqmxowykcbqjkkgcjpgtqjbwjhuhtypqljwnybqzycjtgkcqgwlxpkbqbjvwuxkbwosxjbqdubcypqcjkytybbtuqvxkypbqbtgeqgjwlgfylykcqolkcsypxwgzottgpuqlxgkbbyqjkbguqylvyfftyqbcjcwwxypqmobbcylvtybqvgciokeqagjtymdorwcoxkqowyvybxxdybdiqrycwfnojszbqznxkotuqwxk',\n",
       " {' ': 'q',\n",
       "  'a': 'g',\n",
       "  'b': 'v',\n",
       "  'c': 'w',\n",
       "  'd': 'm',\n",
       "  'e': 'y',\n",
       "  'f': 'h',\n",
       "  'g': 'e',\n",
       "  'h': 'n',\n",
       "  'i': 'o',\n",
       "  'j': 's',\n",
       "  'k': 'r',\n",
       "  'l': 't',\n",
       "  'm': 'l',\n",
       "  'n': 'k',\n",
       "  'o': 'x',\n",
       "  'p': 'z',\n",
       "  'q': ' ',\n",
       "  'r': 'p',\n",
       "  's': 'b',\n",
       "  't': 'c',\n",
       "  'u': 'j',\n",
       "  'v': 'a',\n",
       "  'w': 'i',\n",
       "  'x': 'd',\n",
       "  'y': 'u',\n",
       "  'z': 'f'},\n",
       " [17,\n",
       "  7,\n",
       "  22,\n",
       "  23,\n",
       "  13,\n",
       "  25,\n",
       "  8,\n",
       "  5,\n",
       "  14,\n",
       "  15,\n",
       "  19,\n",
       "  18,\n",
       "  20,\n",
       "  12,\n",
       "  11,\n",
       "  24,\n",
       "  26,\n",
       "  0,\n",
       "  16,\n",
       "  2,\n",
       "  3,\n",
       "  10,\n",
       "  1,\n",
       "  9,\n",
       "  4,\n",
       "  21,\n",
       "  6])"
      ]
     },
     "execution_count": 87,
     "metadata": {},
     "output_type": "execute_result"
    }
   ],
   "source": [
    "generate_test_one_cipher(0.1)"
   ]
  },
  {
   "cell_type": "code",
   "execution_count": 79,
   "id": "8fded380",
   "metadata": {},
   "outputs": [],
   "source": [
    "train_loss_history = []\n",
    "test_loss_history = []"
   ]
  },
  {
   "cell_type": "code",
   "execution_count": 83,
   "id": "2cb24e8c",
   "metadata": {
    "scrolled": true
   },
   "outputs": [
    {
     "name": "stdout",
     "output_type": "stream",
     "text": [
      "Epoch 0, Train loss 0.2108093746442785, Test loss 0.21991053132474908\n",
      "Epoch 1, Train loss 0.2125955755272078, Test loss 0.21973804197684452\n",
      "Epoch 2, Train loss 0.21098150817170627, Test loss 0.23027230330368006\n",
      "Epoch 3, Train loss 0.2112044927583822, Test loss 0.21861288718605687\n"
     ]
    },
    {
     "ename": "KeyboardInterrupt",
     "evalue": "",
     "output_type": "error",
     "traceback": [
      "\u001b[0;31m---------------------------------------------------------------------------\u001b[0m",
      "\u001b[0;31mKeyboardInterrupt\u001b[0m                         Traceback (most recent call last)",
      "\u001b[0;32m/var/folders/1x/qc9ydz9s4vd2vjjqzx68nt0m0000gn/T/ipykernel_5970/2217880427.py\u001b[0m in \u001b[0;36m<module>\u001b[0;34m\u001b[0m\n\u001b[1;32m      7\u001b[0m         \u001b[0ma_inp\u001b[0m\u001b[0;34m,\u001b[0m \u001b[0ma_out\u001b[0m \u001b[0;34m=\u001b[0m \u001b[0mdata\u001b[0m\u001b[0;34m\u001b[0m\u001b[0;34m\u001b[0m\u001b[0m\n\u001b[1;32m      8\u001b[0m         \u001b[0moptimizer\u001b[0m\u001b[0;34m.\u001b[0m\u001b[0mzero_grad\u001b[0m\u001b[0;34m(\u001b[0m\u001b[0;34m)\u001b[0m\u001b[0;34m\u001b[0m\u001b[0;34m\u001b[0m\u001b[0m\n\u001b[0;32m----> 9\u001b[0;31m         \u001b[0mpredicted_output\u001b[0m \u001b[0;34m=\u001b[0m \u001b[0mnet\u001b[0m\u001b[0;34m(\u001b[0m\u001b[0ma_inp\u001b[0m\u001b[0;34m)\u001b[0m\u001b[0;34m\u001b[0m\u001b[0;34m\u001b[0m\u001b[0m\n\u001b[0m\u001b[1;32m     10\u001b[0m         \u001b[0mfit\u001b[0m \u001b[0;34m=\u001b[0m \u001b[0mloss\u001b[0m\u001b[0;34m(\u001b[0m\u001b[0mpredicted_output\u001b[0m\u001b[0;34m,\u001b[0m\u001b[0ma_out\u001b[0m\u001b[0;34m)\u001b[0m \u001b[0;31m# loss(p_out,a_out)\u001b[0m\u001b[0;34m\u001b[0m\u001b[0;34m\u001b[0m\u001b[0m\n\u001b[1;32m     11\u001b[0m         \u001b[0mfit\u001b[0m\u001b[0;34m.\u001b[0m\u001b[0mbackward\u001b[0m\u001b[0;34m(\u001b[0m\u001b[0;34m)\u001b[0m\u001b[0;34m\u001b[0m\u001b[0;34m\u001b[0m\u001b[0m\n",
      "\u001b[0;32m~/opt/anaconda3/lib/python3.8/site-packages/torch/nn/modules/module.py\u001b[0m in \u001b[0;36m_call_impl\u001b[0;34m(self, *input, **kwargs)\u001b[0m\n\u001b[1;32m   1100\u001b[0m         if not (self._backward_hooks or self._forward_hooks or self._forward_pre_hooks or _global_backward_hooks\n\u001b[1;32m   1101\u001b[0m                 or _global_forward_hooks or _global_forward_pre_hooks):\n\u001b[0;32m-> 1102\u001b[0;31m             \u001b[0;32mreturn\u001b[0m \u001b[0mforward_call\u001b[0m\u001b[0;34m(\u001b[0m\u001b[0;34m*\u001b[0m\u001b[0minput\u001b[0m\u001b[0;34m,\u001b[0m \u001b[0;34m**\u001b[0m\u001b[0mkwargs\u001b[0m\u001b[0;34m)\u001b[0m\u001b[0;34m\u001b[0m\u001b[0;34m\u001b[0m\u001b[0m\n\u001b[0m\u001b[1;32m   1103\u001b[0m         \u001b[0;31m# Do not call functions when jit is used\u001b[0m\u001b[0;34m\u001b[0m\u001b[0;34m\u001b[0m\u001b[0;34m\u001b[0m\u001b[0m\n\u001b[1;32m   1104\u001b[0m         \u001b[0mfull_backward_hooks\u001b[0m\u001b[0;34m,\u001b[0m \u001b[0mnon_full_backward_hooks\u001b[0m \u001b[0;34m=\u001b[0m \u001b[0;34m[\u001b[0m\u001b[0;34m]\u001b[0m\u001b[0;34m,\u001b[0m \u001b[0;34m[\u001b[0m\u001b[0;34m]\u001b[0m\u001b[0;34m\u001b[0m\u001b[0;34m\u001b[0m\u001b[0m\n",
      "\u001b[0;32m/var/folders/1x/qc9ydz9s4vd2vjjqzx68nt0m0000gn/T/ipykernel_5970/1944936698.py\u001b[0m in \u001b[0;36mforward\u001b[0;34m(self, x)\u001b[0m\n\u001b[1;32m     22\u001b[0m         \u001b[0mx\u001b[0m \u001b[0;34m=\u001b[0m \u001b[0mself\u001b[0m\u001b[0;34m.\u001b[0m\u001b[0mrelu\u001b[0m\u001b[0;34m(\u001b[0m\u001b[0mx\u001b[0m\u001b[0;34m)\u001b[0m\u001b[0;34m\u001b[0m\u001b[0;34m\u001b[0m\u001b[0m\n\u001b[1;32m     23\u001b[0m \u001b[0;34m\u001b[0m\u001b[0m\n\u001b[0;32m---> 24\u001b[0;31m         \u001b[0mx\u001b[0m \u001b[0;34m=\u001b[0m \u001b[0mself\u001b[0m\u001b[0;34m.\u001b[0m\u001b[0mlin2\u001b[0m\u001b[0;34m(\u001b[0m\u001b[0mx\u001b[0m\u001b[0;34m)\u001b[0m\u001b[0;34m\u001b[0m\u001b[0;34m\u001b[0m\u001b[0m\n\u001b[0m\u001b[1;32m     25\u001b[0m         \u001b[0mx\u001b[0m \u001b[0;34m=\u001b[0m \u001b[0mself\u001b[0m\u001b[0;34m.\u001b[0m\u001b[0mrelu\u001b[0m\u001b[0;34m(\u001b[0m\u001b[0mx\u001b[0m\u001b[0;34m)\u001b[0m\u001b[0;34m\u001b[0m\u001b[0;34m\u001b[0m\u001b[0m\n\u001b[1;32m     26\u001b[0m \u001b[0;34m\u001b[0m\u001b[0m\n",
      "\u001b[0;32m~/opt/anaconda3/lib/python3.8/site-packages/torch/nn/modules/module.py\u001b[0m in \u001b[0;36m_call_impl\u001b[0;34m(self, *input, **kwargs)\u001b[0m\n\u001b[1;32m   1100\u001b[0m         if not (self._backward_hooks or self._forward_hooks or self._forward_pre_hooks or _global_backward_hooks\n\u001b[1;32m   1101\u001b[0m                 or _global_forward_hooks or _global_forward_pre_hooks):\n\u001b[0;32m-> 1102\u001b[0;31m             \u001b[0;32mreturn\u001b[0m \u001b[0mforward_call\u001b[0m\u001b[0;34m(\u001b[0m\u001b[0;34m*\u001b[0m\u001b[0minput\u001b[0m\u001b[0;34m,\u001b[0m \u001b[0;34m**\u001b[0m\u001b[0mkwargs\u001b[0m\u001b[0;34m)\u001b[0m\u001b[0;34m\u001b[0m\u001b[0;34m\u001b[0m\u001b[0m\n\u001b[0m\u001b[1;32m   1103\u001b[0m         \u001b[0;31m# Do not call functions when jit is used\u001b[0m\u001b[0;34m\u001b[0m\u001b[0;34m\u001b[0m\u001b[0;34m\u001b[0m\u001b[0m\n\u001b[1;32m   1104\u001b[0m         \u001b[0mfull_backward_hooks\u001b[0m\u001b[0;34m,\u001b[0m \u001b[0mnon_full_backward_hooks\u001b[0m \u001b[0;34m=\u001b[0m \u001b[0;34m[\u001b[0m\u001b[0;34m]\u001b[0m\u001b[0;34m,\u001b[0m \u001b[0;34m[\u001b[0m\u001b[0;34m]\u001b[0m\u001b[0;34m\u001b[0m\u001b[0;34m\u001b[0m\u001b[0m\n",
      "\u001b[0;32m~/opt/anaconda3/lib/python3.8/site-packages/torch/nn/modules/linear.py\u001b[0m in \u001b[0;36mforward\u001b[0;34m(self, input)\u001b[0m\n\u001b[1;32m    101\u001b[0m \u001b[0;34m\u001b[0m\u001b[0m\n\u001b[1;32m    102\u001b[0m     \u001b[0;32mdef\u001b[0m \u001b[0mforward\u001b[0m\u001b[0;34m(\u001b[0m\u001b[0mself\u001b[0m\u001b[0;34m,\u001b[0m \u001b[0minput\u001b[0m\u001b[0;34m:\u001b[0m \u001b[0mTensor\u001b[0m\u001b[0;34m)\u001b[0m \u001b[0;34m->\u001b[0m \u001b[0mTensor\u001b[0m\u001b[0;34m:\u001b[0m\u001b[0;34m\u001b[0m\u001b[0;34m\u001b[0m\u001b[0m\n\u001b[0;32m--> 103\u001b[0;31m         \u001b[0;32mreturn\u001b[0m \u001b[0mF\u001b[0m\u001b[0;34m.\u001b[0m\u001b[0mlinear\u001b[0m\u001b[0;34m(\u001b[0m\u001b[0minput\u001b[0m\u001b[0;34m,\u001b[0m \u001b[0mself\u001b[0m\u001b[0;34m.\u001b[0m\u001b[0mweight\u001b[0m\u001b[0;34m,\u001b[0m \u001b[0mself\u001b[0m\u001b[0;34m.\u001b[0m\u001b[0mbias\u001b[0m\u001b[0;34m)\u001b[0m\u001b[0;34m\u001b[0m\u001b[0;34m\u001b[0m\u001b[0m\n\u001b[0m\u001b[1;32m    104\u001b[0m \u001b[0;34m\u001b[0m\u001b[0m\n\u001b[1;32m    105\u001b[0m     \u001b[0;32mdef\u001b[0m \u001b[0mextra_repr\u001b[0m\u001b[0;34m(\u001b[0m\u001b[0mself\u001b[0m\u001b[0;34m)\u001b[0m \u001b[0;34m->\u001b[0m \u001b[0mstr\u001b[0m\u001b[0;34m:\u001b[0m\u001b[0;34m\u001b[0m\u001b[0;34m\u001b[0m\u001b[0m\n",
      "\u001b[0;32m~/opt/anaconda3/lib/python3.8/site-packages/torch/nn/functional.py\u001b[0m in \u001b[0;36mlinear\u001b[0;34m(input, weight, bias)\u001b[0m\n\u001b[1;32m   1846\u001b[0m     \u001b[0;32mif\u001b[0m \u001b[0mhas_torch_function_variadic\u001b[0m\u001b[0;34m(\u001b[0m\u001b[0minput\u001b[0m\u001b[0;34m,\u001b[0m \u001b[0mweight\u001b[0m\u001b[0;34m,\u001b[0m \u001b[0mbias\u001b[0m\u001b[0;34m)\u001b[0m\u001b[0;34m:\u001b[0m\u001b[0;34m\u001b[0m\u001b[0;34m\u001b[0m\u001b[0m\n\u001b[1;32m   1847\u001b[0m         \u001b[0;32mreturn\u001b[0m \u001b[0mhandle_torch_function\u001b[0m\u001b[0;34m(\u001b[0m\u001b[0mlinear\u001b[0m\u001b[0;34m,\u001b[0m \u001b[0;34m(\u001b[0m\u001b[0minput\u001b[0m\u001b[0;34m,\u001b[0m \u001b[0mweight\u001b[0m\u001b[0;34m,\u001b[0m \u001b[0mbias\u001b[0m\u001b[0;34m)\u001b[0m\u001b[0;34m,\u001b[0m \u001b[0minput\u001b[0m\u001b[0;34m,\u001b[0m \u001b[0mweight\u001b[0m\u001b[0;34m,\u001b[0m \u001b[0mbias\u001b[0m\u001b[0;34m=\u001b[0m\u001b[0mbias\u001b[0m\u001b[0;34m)\u001b[0m\u001b[0;34m\u001b[0m\u001b[0;34m\u001b[0m\u001b[0m\n\u001b[0;32m-> 1848\u001b[0;31m     \u001b[0;32mreturn\u001b[0m \u001b[0mtorch\u001b[0m\u001b[0;34m.\u001b[0m\u001b[0m_C\u001b[0m\u001b[0;34m.\u001b[0m\u001b[0m_nn\u001b[0m\u001b[0;34m.\u001b[0m\u001b[0mlinear\u001b[0m\u001b[0;34m(\u001b[0m\u001b[0minput\u001b[0m\u001b[0;34m,\u001b[0m \u001b[0mweight\u001b[0m\u001b[0;34m,\u001b[0m \u001b[0mbias\u001b[0m\u001b[0;34m)\u001b[0m\u001b[0;34m\u001b[0m\u001b[0;34m\u001b[0m\u001b[0m\n\u001b[0m\u001b[1;32m   1849\u001b[0m \u001b[0;34m\u001b[0m\u001b[0m\n\u001b[1;32m   1850\u001b[0m \u001b[0;34m\u001b[0m\u001b[0m\n",
      "\u001b[0;31mKeyboardInterrupt\u001b[0m: "
     ]
    }
   ],
   "source": [
    "epochs = 200\n",
    "for epoch in range(epochs):\n",
    "    train_loss = 0.0\n",
    "    test_loss = 0.0\n",
    "    for i, data in enumerate(train_dataloader):\n",
    "        net.train()\n",
    "        a_inp, a_out = data\n",
    "        optimizer.zero_grad()\n",
    "        predicted_output = net(a_inp)\n",
    "        fit = loss(predicted_output,a_out) # loss(p_out,a_out)\n",
    "        fit.backward()\n",
    "        optimizer.step()\n",
    "        train_loss += fit.item()\n",
    "\n",
    "    for i, data in enumerate(test_dataloader):\n",
    "        net.eval()\n",
    "        with torch.no_grad():\n",
    "            a_inp, a_out = data\n",
    "            predicted_output = net(a_inp)\n",
    "            fit = loss(predicted_output,a_out)\n",
    "            test_loss += fit.item()\n",
    "            predicted = torch.max(predicted_output.data, 1)\n",
    "\n",
    "    train_loss = train_loss/len(train_dataloader)\n",
    "    test_loss = test_loss/len(test_dataloader)\n",
    "    train_loss_history.append(train_loss)\n",
    "    test_loss_history.append(test_loss)\n",
    "    print('Epoch %s, Train loss %s, Test loss %s'%(epoch, train_loss, test_loss))"
   ]
  },
  {
   "cell_type": "code",
   "execution_count": 84,
   "id": "7b6d6aed",
   "metadata": {},
   "outputs": [
    {
     "data": {
      "text/plain": [
       "<matplotlib.legend.Legend at 0x7f949bad8ca0>"
      ]
     },
     "execution_count": 84,
     "metadata": {},
     "output_type": "execute_result"
    },
    {
     "data": {
      "image/png": "[encoded data removed]",
      "text/plain": [
       "<Figure size 432x288 with 1 Axes>"
      ]
     },
     "metadata": {
      "needs_background": "light"
     },
     "output_type": "display_data"
    }
   ],
   "source": [
    "plt.plot(range(len(train_loss_history)),train_loss_history,'-',linewidth=3,label='Train error')\n",
    "plt.plot(range(len(test_loss_history)),test_loss_history,'-',linewidth=3,label='Test error')\n",
    "plt.xlabel('epoch')\n",
    "plt.ylabel('loss')\n",
    "plt.grid(True)\n",
    "plt.legend()"
   ]
  },
  {
   "cell_type": "code",
   "execution_count": 85,
   "id": "bd166df2",
   "metadata": {},
   "outputs": [
    {
     "name": "stdout",
     "output_type": "stream",
     "text": [
      "accuracy is 0.9001049073318569\n"
     ]
    }
   ],
   "source": [
    "correct = 0\n",
    "total = 0\n",
    "\n",
    "net.eval()\n",
    "for i, data in enumerate(test_dataloader):\n",
    "    with torch.no_grad():\n",
    "        a_inp, a_out = data\n",
    "        predicted_output = net(a_inp)\n",
    "        p_arr = predicted_output.detach().numpy()\n",
    "        a_out = a_out.detach().numpy()\n",
    "        for i in range(len(a_out)):\n",
    "            if abs(p_arr[i] - a_out[i])<0.5:\n",
    "                correct += 1\n",
    "            total += 1\n",
    "\n",
    "print('accuracy is',correct/total)"
   ]
  },
  {
   "cell_type": "code",
   "execution_count": 34,
   "id": "6b34309f",
   "metadata": {},
   "outputs": [],
   "source": [
    "# import pickle\n",
    "# cols_one = input_cols\n",
    "# with open('columns_diff_test.pkl', 'wb') as handle:\n",
    "#     pickle.dump(cols_one, handle, protocol=pickle.HIGHEST_PROTOCOL)\n",
    "    \n",
    "# with open('scaler_diff_test.pkl', 'wb') as handle:\n",
    "#     pickle.dump(scaler, handle, protocol=pickle.HIGHEST_PROTOCOL)\n",
    "    \n",
    "# torch.save(net.state_dict(),'model_diff_test.state')"
   ]
  },
  {
   "cell_type": "code",
   "execution_count": 54,
   "id": "bbec76d8",
   "metadata": {},
   "outputs": [],
   "source": [
    "correct = 0\n",
    "total = 0\n",
    "for t_out,a_out in zip(try_out,df['result'].iloc[:]):\n",
    "    res = (t_out.item() > 0.5)\n",
    "    if res == a_out:\n",
    "        correct += 1\n",
    "    total += 1"
   ]
  },
  {
   "cell_type": "code",
   "execution_count": null,
   "id": "c216e2f8",
   "metadata": {},
   "outputs": [],
   "source": []
  }
 ],
 "metadata": {
  "kernelspec": {
   "display_name": "Python 3 (ipykernel)",
   "language": "python",
   "name": "python3"
  },
  "language_info": {
   "codemirror_mode": {
    "name": "ipython",
    "version": 3
   },
   "file_extension": ".py",
   "mimetype": "text/x-python",
   "name": "python",
   "nbconvert_exporter": "python",
   "pygments_lexer": "ipython3",
   "version": "3.8.8"
  }
 },
 "nbformat": 4,
 "nbformat_minor": 5
}
