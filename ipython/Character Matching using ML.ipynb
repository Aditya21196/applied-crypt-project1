{
 "cells": [
  {
   "cell_type": "code",
   "execution_count": 116,
   "id": "716abb90",
   "metadata": {},
   "outputs": [],
   "source": [
    "import matplotlib.pyplot as plt\n",
    "import numpy as np\n",
    "from scipy import stats\n",
    "import pandas as pd\n",
    "import random\n",
    "\n",
    "from collections import defaultdict\n",
    "from collections import Counter\n",
    "import random\n",
    "import sys\n",
    "import pickle\n",
    "\n",
    "sys.path.insert(0,'../decryption')\n",
    "sys.path.insert(0,'../encryption')\n",
    "sys.path.insert(0,'../dictionaries')\n",
    "\n",
    "import encrypt\n",
    "import decrypt\n",
    "import alphabet\n",
    "import frequency\n",
    "\n",
    "_ALPHABET = \" abcdefghijklmnopqrstuvwxyz\""
   ]
  },
  {
   "cell_type": "code",
   "execution_count": 117,
   "id": "7f5d1b23",
   "metadata": {},
   "outputs": [],
   "source": [
    "# simulation of problem\n",
    "TEST_KEY_MAPPING = encrypt.generate_key_mapping()\n",
    "TEST_CHAR_MAPPING = encrypt.char_key_mapping_from_key_mapping(TEST_KEY_MAPPING)\n",
    "\n",
    "assert len(set(TEST_KEY_MAPPING)) == 27\n",
    "\n",
    "TEST_PLAIN_TEXTS = []\n",
    "with open('../dictionaries/official_dictionary_1_cleaned.txt','r') as f:\n",
    "    content = f.readlines()\n",
    "    for line in content:\n",
    "        TEST_PLAIN_TEXTS.append(line.strip())\n",
    "\n",
    "TEST_PROBABILITY = 0.1\n",
    "ciphers = [encrypt.encrypt(msg,TEST_KEY_MAPPING,TEST_PROBABILITY) for msg in TEST_PLAIN_TEXTS]\n",
    "\n",
    "# pick a random cipher and start working with it. (We should not know the original plain text)\n",
    "r = random.randint(0,len(ciphers)-1)\n",
    "cipher_txt = ciphers[r]\n",
    "test_plain_text = TEST_PLAIN_TEXTS[r]"
   ]
  },
  {
   "cell_type": "code",
   "execution_count": 118,
   "id": "6937c61a",
   "metadata": {},
   "outputs": [
    {
     "data": {
      "text/plain": [
       "'enhtlvegoywisgalvgafycpaclfiykekaklveradflkvbzy ge xspotilfvafykek gevsfvansyhzoiopeeiyvblguspehzsgy lwlkaqsuymgawsluakwyshge mslkyzlzzasgylkva luzvayvlttoopeybalzgjsgy egvlmtszyzsttaaokwyzofpisjakwykyljaglvsyxtlzkisgy pevewbzskmzavaqsgyjhtvazvlwsyhvatsy lkgltoqszyakusrysgymltfigszvzyvlgjklfyzuejtszyza peksulyflzlnlzyjhuztakwakwykeknsgrgmltybssnatylwgmavglty lwakvsuyndsz sgwvpaaksy etsrawtlzzyvlkisgyzslbegvdpakszzyhkaimlkvsgoszvsuylklvpsjlvayqakwyfekuvhfszyvssgmahjzybpsstmlggebtyilmltlzyzvlwklvaefkymgazisvzyfehkvsgftefibazsrypslgvlpzauszyz hrgaehrzteyoyz'"
      ]
     },
     "execution_count": 118,
     "metadata": {},
     "output_type": "execute_result"
    }
   ],
   "source": [
    "cipher_txt"
   ]
  },
  {
   "cell_type": "code",
   "execution_count": 119,
   "id": "8218b29b",
   "metadata": {},
   "outputs": [],
   "source": [
    "def build_rel_dist(text):\n",
    "    rel_dist = defaultdict(list)\n",
    "    rel_num = defaultdict(list)\n",
    "    for j,c in enumerate(text):\n",
    "        rel_dist[c].append((j/len(text)))\n",
    "        rel_num[c].append(j)\n",
    "    return rel_dist,rel_num\n",
    "\n",
    "def get_diff(arr):\n",
    "    diff = []\n",
    "    for i in range(1,len(arr)):\n",
    "        diff.append(round(arr[i]-arr[i-1],4))\n",
    "    return diff"
   ]
  },
  {
   "cell_type": "code",
   "execution_count": 122,
   "id": "54ed46d6",
   "metadata": {},
   "outputs": [],
   "source": [
    "rel_dist_all = [build_rel_dist(text) for text in TEST_PLAIN_TEXTS]\n",
    "rel_dists = [a[0] for a in rel_dist_all]\n",
    "rel_nums = [a[1] for a in rel_dist_all]\n",
    "\n",
    "rel_dist_diffs = [defaultdict(list,{k:get_diff(v) for k,v in dist.items()}) for dist in rel_dists]\n",
    "rel_num_diffs = [defaultdict(list,{k:get_diff(v) for k,v in dist.items()}) for dist in rel_nums]\n",
    "\n",
    "c_rel_dist,c_rel_num = build_rel_dist(cipher_txt)\n",
    "\n",
    "c_rel_dist_diff = defaultdict(list,{k:get_diff(v) for k,v in c_rel_dist.items()})\n",
    "c_rel_num_diff = defaultdict(list,{k:get_diff(v) for k,v in c_rel_num.items()})\n"
   ]
  },
  {
   "cell_type": "code",
   "execution_count": 140,
   "id": "412c09b4",
   "metadata": {
    "scrolled": false
   },
   "outputs": [
    {
     "name": "stdout",
     "output_type": "stream",
     "text": [
      "g 0.9915300846510168 0.0006769059259295052 [10, 90, 101, 106, 166, 175, 217, 291, 294, 346, 399, 442]\n",
      "h 0.9539559434656424 1.6730262908160043e-05 [20, 46, 72, 81, 140, 170, 194, 270, 366, 390, 420, 476, 481]\n",
      "i 0.9999999684582623 0.9145877690736309 [13, 17, 21, 30, 35, 52, 65, 93, 100, 104, 121, 128, 133, 164, 173, 179, 202, 204, 213, 222, 236, 268, 289, 292, 310, 316, 324, 337, 345, 367, 375, 395, 397, 414, 446, 452, 472, 483, 492]\n",
      "n 0.9551984270684034 0.5303446451619362 [27, 29, 31, 38, 55, 57, 92, 105, 115, 126, 165, 174, 188, 200, 237, 272, 290, 293, 296, 298, 325, 338, 354, 368, 374, 376, 387, 398, 403, 443, 448, 462]\n",
      "r 0.9999612233725707 0.08613809994917854 [7, 12, 16, 43, 59, 79, 86, 99, 110, 123, 145, 148, 152, 180, 191, 207, 228, 242, 248, 256, 301, 314, 318, 335, 357, 364, 379, 412, 426, 427, 451, 465, 479, 491]\n",
      "t 0.9338657476107979 0.784723211028722 [5, 15, 32, 39, 51, 61, 64, 127, 132, 135, 153, 182, 196, 203, 212, 215, 221, 251, 254, 317, 326, 336, 352, 365, 377, 382, 389, 394, 410, 440, 445, 456, 463, 480]\n",
      "x 0.9758280479210711 0.00221483942414169 [34, 240, 344]\n",
      "z 0.9748996537671968 0.0030202355783750523 [94, 205, 232, 396]\n"
     ]
    }
   ],
   "source": [
    "target = 'a'\n",
    "p_vals = []\n",
    "\n",
    "c_rel_diff = c_rel_dist_diff[target]\n",
    "c_rel = c_rel_dist[target]\n",
    "for c in _ALPHABET:\n",
    "    rel_diff = rel_dist_diffs[r][c]\n",
    "    rel = rel_dists[r][c]\n",
    "    if len(rel) == 0 or len(rel_diff) == 0:\n",
    "        continue\n",
    "    if len(rel)>len(c_rel):\n",
    "        continue\n",
    "    p_val = stats.ks_2samp(rel,c_rel)[1]\n",
    "    p_val_diff = stats.ks_2samp(rel_diff,c_rel_diff)[1]\n",
    "    if p_val>0.9:\n",
    "        print(c,p_val,p_val_diff,rel_nums[r][c])"
   ]
  },
  {
   "cell_type": "code",
   "execution_count": 135,
   "id": "e8b7d686",
   "metadata": {},
   "outputs": [
    {
     "data": {
      "text/plain": [
       "[0.0054]"
      ]
     },
     "execution_count": 135,
     "metadata": {},
     "output_type": "execute_result"
    }
   ],
   "source": [
    "c_rel_diff"
   ]
  },
  {
   "cell_type": "code",
   "execution_count": 136,
   "id": "0808c0ee",
   "metadata": {},
   "outputs": [
    {
     "data": {
      "text/plain": [
       "[]"
      ]
     },
     "execution_count": 136,
     "metadata": {},
     "output_type": "execute_result"
    }
   ],
   "source": [
    "rel_dist_diffs[r]['j']"
   ]
  },
  {
   "cell_type": "code",
   "execution_count": 133,
   "id": "4840a1fc",
   "metadata": {},
   "outputs": [
    {
     "data": {
      "text/plain": [
       "[0.0375, 0.04285714285714286]"
      ]
     },
     "execution_count": 133,
     "metadata": {},
     "output_type": "execute_result"
    }
   ],
   "source": [
    "c_rel"
   ]
  },
  {
   "cell_type": "code",
   "execution_count": 127,
   "id": "b2967de5",
   "metadata": {},
   "outputs": [
    {
     "data": {
      "text/plain": [
       "[0.222, 0.054, 0.328]"
      ]
     },
     "execution_count": 127,
     "metadata": {},
     "output_type": "execute_result"
    }
   ],
   "source": [
    "rel_diff"
   ]
  },
  {
   "cell_type": "code",
   "execution_count": 129,
   "id": "0c26a81d",
   "metadata": {
    "scrolled": true
   },
   "outputs": [
    {
     "data": {
      "text/plain": [
       "{' ': 'y',\n",
       " 'a': 'l',\n",
       " 'b': 'm',\n",
       " 'c': 'f',\n",
       " 'd': 'u',\n",
       " 'e': 's',\n",
       " 'f': 'x',\n",
       " 'g': 'w',\n",
       " 'h': 'p',\n",
       " 'i': 'a',\n",
       " 'j': 'c',\n",
       " 'k': 'i',\n",
       " 'l': 't',\n",
       " 'm': 'j',\n",
       " 'n': 'k',\n",
       " 'o': 'e',\n",
       " 'p': ' ',\n",
       " 'q': 'd',\n",
       " 'r': 'g',\n",
       " 's': 'z',\n",
       " 't': 'v',\n",
       " 'u': 'h',\n",
       " 'v': 'n',\n",
       " 'w': 'b',\n",
       " 'x': 'r',\n",
       " 'y': 'o',\n",
       " 'z': 'q'}"
      ]
     },
     "execution_count": 129,
     "metadata": {},
     "output_type": "execute_result"
    }
   ],
   "source": [
    "TEST_CHAR_MAPPING"
   ]
  },
  {
   "cell_type": "code",
   "execution_count": null,
   "id": "11a1ed80",
   "metadata": {},
   "outputs": [],
   "source": [
    "# strategy: First declare eliminations \n",
    "# Then Declare hyperparameters as thresholds. For different values of extra characters, calculate the best\n",
    "# value of these hyperparameters by running through the solution\n",
    "\n",
    "# elimination 1: length of rel should be lesser\n",
    "# elimination 2: top r (hyper param mapped to diff) values of p_vals\n",
    "# elimination 3: check difference in first character of rel num. it should be less than k (2nd hyper-parameter OR ML input)\n",
    "# elimination 4: for each term in first and last m (3rd hyperparam) rel dist elements, \n",
    "# find closest term and add difference of square from it to total score. Choose letter with lowest such score\n",
    "#       OR\n",
    "# Do this for first m terms in rel nums\n",
    "#       OR\n",
    "# Calculate some group stats and run a classification ML model. These features can include:\n",
    "# diff, 1st, 2nd, 3rd ... kth moment of steps of both distributions (k is a hyperparameter)\n",
    "\n",
    "# In the end, calculate average p value of each guess and output the maximum\n",
    "# OR calculate score as p value * size in rel num"
   ]
  },
  {
   "cell_type": "code",
   "execution_count": 143,
   "id": "ee785892",
   "metadata": {},
   "outputs": [],
   "source": [
    "def iter_tests(p,num):\n",
    "    \"\"\"\n",
    "    iterate over num tests for prob p\n",
    "    \"\"\"\n",
    "    for _ in range(num):\n",
    "        num_key_mapping = encrypt.generate_key_mapping()\n",
    "        char_key_mapping = encrypt.char_key_mapping_from_key_mapping(num_key_mapping)\n",
    "\n",
    "        r = random.randint(0,len(ciphers)-1)\n",
    "        cipher = encrypt.encrypt(TEST_PLAIN_TEXTS[r],num_key_mapping,p)\n",
    "\n",
    "        yield r,cipher,char_key_mapping\n",
    "\n",
    "def append(data,df):\n",
    "    l = len(df)\n",
    "    for k,v in data.items():\n",
    "        df.loc[l,k] = v"
   ]
  },
  {
   "cell_type": "code",
   "execution_count": 144,
   "id": "8cc45c67",
   "metadata": {},
   "outputs": [],
   "source": [
    "def get_data(num,diff,dist,dist_diff,c_num,c_diff,c_dist,c_dist_diff):\n",
    "    data = dict()\n",
    "\n",
    "    # get 2,3 moment of num\n",
    "    max_moments = 3\n",
    "    for i in range(2,max_moments+1):\n",
    "        data[str(i)+'_num_moment'] = stats.moment(num,i)\n",
    "        data[str(i)+'_c_num_moment'] = stats.moment(c_num,i)\n",
    "\n",
    "    # get 2,3 moment of diff\n",
    "    max_moments = 3\n",
    "    for i in range(2,max_moments+1):\n",
    "        data[str(i)+'_diff_moment'] = stats.moment(diff,i)\n",
    "        data[str(i)+'_c_diff_moment'] = stats.moment(c_diff,i)\n",
    "\n",
    "    # get 2,3,4,5 moment of dist\n",
    "    max_moments = 5\n",
    "    for i in range(2,max_moments+1):\n",
    "        data[str(i)+'_dist_moment'] = stats.moment(dist,i)\n",
    "        data[str(i)+'_c_dist_moment'] = stats.moment(c_dist,i)\n",
    "\n",
    "    # get 2 moment of dist_diff\n",
    "    max_moments = 2\n",
    "    for i in range(2,max_moments+1):\n",
    "        data[str(i)+'_dist_diff_moment'] = stats.moment(dist_diff,i)\n",
    "        data[str(i)+'_c_dist_diff_moment'] = stats.moment(c_dist_diff,i)\n",
    "\n",
    "    # get 3 moment of dist_diff*1000\n",
    "    data[str(3)+'_dist_diff_moment'] = stats.moment(dist_diff,3) * 1000\n",
    "    data[str(3)+'_c_dist_diff_moment'] = stats.moment(c_dist_diff,3) * 1000\n",
    "\n",
    "    # dependant stats\n",
    "    if num and c_num:\n",
    "        data['num_p_ks'] = stats.ks_2samp(num,c_num)[1]\n",
    "    if dist and c_dist:\n",
    "        data['dist_p_ks'] = stats.ks_2samp(dist,c_dist)[1]\n",
    "    if diff and c_diff:\n",
    "        data['diff_p_ks'] = stats.ks_2samp(diff,c_diff)[1]\n",
    "    if dist_diff and c_dist_diff:\n",
    "        data['dist_diff_p_ks'] = stats.ks_2samp(dist_diff,c_dist_diff)[1]\n",
    "\n",
    "    # covariance of first k samples\n",
    "    k = 5\n",
    "    l = min(k,len(num),len(c_num))\n",
    "    if l>0:\n",
    "        data['num_first_cov'] = np.cov(num[:l],c_num[:l])[0][1]\n",
    "        data['num_last_cov'] = np.cov(num[-l:],c_num[-l:])[0][1]\n",
    "\n",
    "    l = min(k,len(dist),len(c_dist))\n",
    "    if l>0:\n",
    "        data['dist_first_cov'] = np.cov(dist[:l],c_dist[:l])[0][1]\n",
    "        data['dist_last_cov'] = np.cov(dist[-l:],c_dist[-l:])[0][1]\n",
    "\n",
    "    l = min(k,len(diff),len(c_diff))\n",
    "    if l>0:\n",
    "        data['diff_first_cov'] = np.cov(diff[:l],c_diff[:l])[0][1]\n",
    "        data['diff_last_cov'] = np.cov(diff[-l:],c_diff[-l:])[0][1]\n",
    "\n",
    "    l = min(k,len(dist_diff),len(c_dist_diff))\n",
    "    if l>0:\n",
    "        data['dist_diff_first_cov'] = np.cov(dist_diff[:l],c_dist_diff[:l])[0][1]\n",
    "        data['dist_diff_last_cov'] = np.cov(dist_diff[-l:],c_dist_diff[-l:])[0][1]\n",
    "    return data\n"
   ]
  },
  {
   "cell_type": "code",
   "execution_count": 150,
   "id": "55e08dc3",
   "metadata": {},
   "outputs": [],
   "source": [
    "def get_best_negative(r,c_rel,rel_dists,n=4):\n",
    "    \"\"\"\n",
    "    choose those characters which we know are hard to predict\n",
    "    \"\"\"\n",
    "    p_vals = []\n",
    "    for c_p in _ALPHABET:\n",
    "        rel = rel_dists[r][c_p]\n",
    "        if len(rel) == 0:\n",
    "            continue\n",
    "        if len(rel)>len(c_rel):\n",
    "            continue\n",
    "        p_val = stats.ks_2samp(rel,c_rel)[1]\n",
    "        p_vals.append((p_val,c_p))\n",
    "    p_vals.sort(key = lambda a: -a[0])\n",
    "    return [a[1] for a in p_vals[:n]]\n",
    "\n",
    "def next_choice(closest_p_vals,chosen):\n",
    "    for char in closest_p_vals:\n",
    "        if char not in chosen:\n",
    "            return char\n",
    "    return random.choice(_ALPHABET)"
   ]
  },
  {
   "cell_type": "code",
   "execution_count": 151,
   "id": "9e862055",
   "metadata": {
    "scrolled": true
   },
   "outputs": [
    {
     "name": "stderr",
     "output_type": "stream",
     "text": [
      "/var/folders/1x/qc9ydz9s4vd2vjjqzx68nt0m0000gn/T/ipykernel_23504/3057785574.py:56: RuntimeWarning: Degrees of freedom <= 0 for slice\n",
      "  data['diff_first_cov'] = np.cov(diff[:l],c_diff[:l])[0][1]\n",
      "/var/folders/1x/qc9ydz9s4vd2vjjqzx68nt0m0000gn/T/ipykernel_23504/3057785574.py:57: RuntimeWarning: Degrees of freedom <= 0 for slice\n",
      "  data['diff_last_cov'] = np.cov(diff[-l:],c_diff[-l:])[0][1]\n",
      "/var/folders/1x/qc9ydz9s4vd2vjjqzx68nt0m0000gn/T/ipykernel_23504/3057785574.py:61: RuntimeWarning: Degrees of freedom <= 0 for slice\n",
      "  data['dist_diff_first_cov'] = np.cov(dist_diff[:l],c_dist_diff[:l])[0][1]\n",
      "/var/folders/1x/qc9ydz9s4vd2vjjqzx68nt0m0000gn/T/ipykernel_23504/3057785574.py:62: RuntimeWarning: Degrees of freedom <= 0 for slice\n",
      "  data['dist_diff_last_cov'] = np.cov(dist_diff[-l:],c_dist_diff[-l:])[0][1]\n",
      "/var/folders/1x/qc9ydz9s4vd2vjjqzx68nt0m0000gn/T/ipykernel_23504/3057785574.py:46: RuntimeWarning: Degrees of freedom <= 0 for slice\n",
      "  data['num_first_cov'] = np.cov(num[:l],c_num[:l])[0][1]\n",
      "/var/folders/1x/qc9ydz9s4vd2vjjqzx68nt0m0000gn/T/ipykernel_23504/3057785574.py:47: RuntimeWarning: Degrees of freedom <= 0 for slice\n",
      "  data['num_last_cov'] = np.cov(num[-l:],c_num[-l:])[0][1]\n",
      "/var/folders/1x/qc9ydz9s4vd2vjjqzx68nt0m0000gn/T/ipykernel_23504/3057785574.py:51: RuntimeWarning: Degrees of freedom <= 0 for slice\n",
      "  data['dist_first_cov'] = np.cov(dist[:l],c_dist[:l])[0][1]\n",
      "/var/folders/1x/qc9ydz9s4vd2vjjqzx68nt0m0000gn/T/ipykernel_23504/3057785574.py:52: RuntimeWarning: Degrees of freedom <= 0 for slice\n",
      "  data['dist_last_cov'] = np.cov(dist[-l:],c_dist[-l:])[0][1]\n"
     ]
    },
    {
     "name": "stdout",
     "output_type": "stream",
     "text": [
      "10\n",
      "20\n",
      "30\n",
      "40\n",
      "50\n",
      "60\n",
      "70\n",
      "80\n",
      "90\n",
      "100\n",
      "110\n",
      "120\n",
      "130\n",
      "140\n",
      "150\n",
      "160\n",
      "170\n",
      "180\n",
      "190\n",
      "200\n",
      "210\n",
      "220\n",
      "230\n",
      "240\n",
      "250\n",
      "260\n",
      "270\n",
      "280\n",
      "290\n",
      "300\n",
      "310\n",
      "320\n",
      "330\n",
      "340\n",
      "350\n",
      "360\n",
      "370\n",
      "380\n",
      "390\n",
      "400\n",
      "410\n",
      "420\n",
      "430\n",
      "440\n",
      "450\n",
      "460\n",
      "470\n",
      "480\n",
      "490\n",
      "500\n",
      "510\n",
      "520\n",
      "530\n",
      "540\n",
      "550\n",
      "560\n",
      "570\n",
      "580\n",
      "590\n",
      "600\n",
      "610\n",
      "620\n",
      "630\n",
      "640\n",
      "650\n",
      "660\n",
      "670\n",
      "680\n",
      "690\n",
      "700\n",
      "710\n",
      "720\n",
      "730\n",
      "740\n",
      "750\n",
      "760\n",
      "770\n",
      "780\n",
      "790\n",
      "800\n",
      "810\n",
      "820\n",
      "830\n",
      "840\n",
      "850\n",
      "860\n",
      "870\n",
      "880\n",
      "890\n",
      "900\n",
      "910\n",
      "920\n",
      "930\n",
      "940\n",
      "950\n",
      "960\n",
      "970\n",
      "980\n",
      "990\n",
      "1000\n"
     ]
    }
   ],
   "source": [
    "# create dataset for p = 0.1\n",
    "df = pd.DataFrame()\n",
    "\n",
    "# get distributions for plaintexts\n",
    "rel_dist_all = [build_rel_dist(text) for text in TEST_PLAIN_TEXTS]\n",
    "rel_dists = [a[0] for a in rel_dist_all]\n",
    "rel_nums = [a[1] for a in rel_dist_all]\n",
    "\n",
    "rel_dist_diffs = [defaultdict(list,{k:get_diff(v) for k,v in dist.items()}) for dist in rel_dists]\n",
    "rel_num_diffs = [defaultdict(list,{k:get_diff(v) for k,v in dist.items()}) for dist in rel_nums]\n",
    "\n",
    "num_itr = 0\n",
    "for r_idx,cipher,char_key_mapping in iter_tests(0.1,1000):\n",
    "    # track progress\n",
    "    num_itr += 1\n",
    "    if num_itr % 10 == 0:\n",
    "        print(num_itr)\n",
    "    \n",
    "    rev_mapping = {v:k for k,v in char_key_mapping.items()}\n",
    "    \n",
    "    char_diff = len(cipher) - len(TEST_PLAIN_TEXTS[r_idx])\n",
    "    \n",
    "    # get distributions for cipher\n",
    "    c_rel_dist,c_rel_num = build_rel_dist(cipher)\n",
    "    c_rel_num_diff = defaultdict(list,{k:get_diff(v) for k,v in c_rel_num.items()})\n",
    "    c_rel_dist_diff = defaultdict(list,{k:get_diff(v) for k,v in c_rel_dist.items()})\n",
    "    \n",
    "    for c_c in _ALPHABET:\n",
    "        c_p = rev_mapping[c_c]\n",
    "        \n",
    "        num = rel_nums[r_idx][c_p]\n",
    "        c_num = c_rel_num[c_c]\n",
    "        \n",
    "        dist = rel_dists[r_idx][c_p]\n",
    "        c_dist = c_rel_dist[c_c]\n",
    "        \n",
    "        diff = rel_num_diffs[r_idx][c_p]\n",
    "        c_diff = c_rel_num_diff[c_c]\n",
    "        \n",
    "        dist_diff = rel_dist_diffs[r_idx][c_p]\n",
    "        c_dist_diff = c_rel_dist_diff[c_c]\n",
    "        \n",
    "        data = get_data(num,diff,dist,dist_diff,c_num,c_diff,c_dist,c_dist_diff)\n",
    "        data['char_diff'] = char_diff\n",
    "        data['l_c_dist'] = len(c_dist)\n",
    "        data['l_dist'] = len(dist)\n",
    "        data['output'] = 1\n",
    "        append(data,df)\n",
    "        \n",
    "        best_negative = get_best_negative(r_idx,c_dist,rel_dists)\n",
    "        \n",
    "        chosen = set([c_p])\n",
    "        while len(chosen)<4:\n",
    "            c_p = next_choice(best_negative,chosen)\n",
    "            chosen.add(c_p)\n",
    "            \n",
    "            num = rel_nums[r_idx][c_p]\n",
    "            dist = rel_dists[r_idx][c_p]\n",
    "            diff = rel_num_diffs[r_idx][c_p]\n",
    "            dist_diff = rel_dist_diffs[r_idx][c_p]\n",
    "            \n",
    "            data = get_data(num,diff,dist,dist_diff,c_num,c_diff,c_dist,c_dist_diff)\n",
    "            data['char_diff'] = char_diff\n",
    "            data['l_c_dist'] = len(c_dist)\n",
    "            data['l_dist'] = len(dist)\n",
    "            data['output'] = 0\n",
    "            append(data,df)\n",
    "            "
   ]
  },
  {
   "cell_type": "code",
   "execution_count": 152,
   "id": "2cdb39c3",
   "metadata": {},
   "outputs": [],
   "source": [
    "df = df.fillna(0)"
   ]
  },
  {
   "cell_type": "code",
   "execution_count": 153,
   "id": "7f7988ae",
   "metadata": {},
   "outputs": [],
   "source": [
    "df.to_csv('dataset_two.csv',index=False)"
   ]
  },
  {
   "cell_type": "code",
   "execution_count": 154,
   "id": "7ef41fea",
   "metadata": {},
   "outputs": [],
   "source": [
    "X = df.iloc[:,:-1].values\n",
    "y = df.iloc[:,-1].values.reshape(-1,1)"
   ]
  },
  {
   "cell_type": "code",
   "execution_count": 155,
   "id": "0d4e7726",
   "metadata": {},
   "outputs": [
    {
     "name": "stdout",
     "output_type": "stream",
     "text": [
      "(108251, 35)\n",
      "(108251, 1)\n"
     ]
    }
   ],
   "source": [
    "print(X.shape)\n",
    "print(y.shape)"
   ]
  },
  {
   "cell_type": "code",
   "execution_count": 156,
   "id": "b1126d67",
   "metadata": {},
   "outputs": [],
   "source": [
    "# build a model\n",
    "import torch\n",
    "from torchvision import datasets, models, transforms\n",
    "from sklearn.model_selection import train_test_split\n",
    "from sklearn.preprocessing import StandardScaler\n",
    "from torch.utils.data import Dataset, DataLoader, TensorDataset\n",
    "\n",
    "X_train_raw, X_test_raw, y_train, y_test = train_test_split(X, y, test_size=0.30)\n",
    "num_feat = X_train_raw.shape[1]\n",
    "\n",
    "scaler = StandardScaler()\n",
    "scaler.fit(X_train_raw)\n",
    "X_train = torch.from_numpy(scaler.transform(X_train_raw)).float()\n",
    "X_test = torch.from_numpy(scaler.transform(X_test_raw)).float()\n",
    "y_train = torch.from_numpy(y_train).float()\n",
    "y_test = torch.from_numpy(y_test).float()"
   ]
  },
  {
   "cell_type": "code",
   "execution_count": 157,
   "id": "39ffb746",
   "metadata": {},
   "outputs": [],
   "source": [
    "train_dataset = TensorDataset(X_train,y_train) # create your datset\n",
    "train_dataloader = DataLoader(train_dataset,batch_size=16,shuffle=True) # create your dataloader"
   ]
  },
  {
   "cell_type": "code",
   "execution_count": 158,
   "id": "a2b36211",
   "metadata": {},
   "outputs": [],
   "source": [
    "test_dataset = TensorDataset(X_test,y_test) # create your datset\n",
    "test_dataloader = DataLoader(test_dataset,batch_size=16,shuffle=True) # create your dataloader"
   ]
  },
  {
   "cell_type": "code",
   "execution_count": 166,
   "id": "f9401669",
   "metadata": {},
   "outputs": [],
   "source": [
    "class NeuralNet(torch.nn.Module): \n",
    "    def __init__(self):\n",
    "        super(NeuralNet,self).__init__()\n",
    "\n",
    "        self.relu = torch.nn.ReLU()\n",
    "        \n",
    "        self.lin1 = torch.nn.Linear(num_feat, 128)\n",
    "        \n",
    "        self.lin2 =torch.nn.Linear(128, 64)\n",
    "        \n",
    "        self.lin3 =torch. nn.Linear(64, 1)\n",
    "        \n",
    "        self.out = torch.nn.Sigmoid()\n",
    "        \n",
    "        self.float()\n",
    "        \n",
    "    def forward(self, x):\n",
    "        x = self.lin1(x)\n",
    "        x = self.relu(x)\n",
    "        \n",
    "        x = self.lin2(x)\n",
    "        x = self.relu(x)\n",
    "        \n",
    "        x = self.lin3(x)\n",
    "        x = self.out(x)\n",
    "        \n",
    "        return x\n",
    "\n",
    "net = NeuralNet()\n",
    "loss = torch.nn.BCELoss() # pass output, target\n",
    "optimizer = torch.optim.SGD(net.parameters(), lr=0.01)\n"
   ]
  },
  {
   "cell_type": "code",
   "execution_count": 167,
   "id": "4f890ec2",
   "metadata": {},
   "outputs": [],
   "source": [
    "train_loss_history = []\n",
    "test_loss_history = []"
   ]
  },
  {
   "cell_type": "code",
   "execution_count": 168,
   "id": "904ea11f",
   "metadata": {
    "scrolled": true
   },
   "outputs": [
    {
     "name": "stdout",
     "output_type": "stream",
     "text": [
      "Epoch 0, Train loss 0.31716067465163794, Test loss 0.24406409354999734\n",
      "Epoch 1, Train loss 0.22462766908220883, Test loss 0.22022773633743153\n",
      "Epoch 2, Train loss 0.20336031112359754, Test loss 0.19698469573058408\n",
      "Epoch 3, Train loss 0.18924177048422672, Test loss 0.18548185420062008\n",
      "Epoch 4, Train loss 0.17879092853803052, Test loss 0.17985643582450675\n",
      "Epoch 5, Train loss 0.17089013662651367, Test loss 0.1724020566114596\n",
      "Epoch 6, Train loss 0.1648933064375219, Test loss 0.16614501875724294\n",
      "Epoch 7, Train loss 0.1591840509890234, Test loss 0.1643756934845352\n",
      "Epoch 8, Train loss 0.1544708169840797, Test loss 0.15853175139490497\n",
      "Epoch 9, Train loss 0.1500979859249767, Test loss 0.15324844405906082\n",
      "Epoch 10, Train loss 0.14693240877307756, Test loss 0.15111125304267325\n",
      "Epoch 11, Train loss 0.14392358949811063, Test loss 0.14850964400953995\n",
      "Epoch 12, Train loss 0.14081850098119578, Test loss 0.14951892779701909\n",
      "Epoch 13, Train loss 0.13814778984443685, Test loss 0.14461595599707033\n",
      "Epoch 14, Train loss 0.13574906083352756, Test loss 0.14126553189541613\n",
      "Epoch 15, Train loss 0.13376867071656307, Test loss 0.1444369096223499\n",
      "Epoch 16, Train loss 0.13151913207264296, Test loss 0.1425372925804919\n",
      "Epoch 17, Train loss 0.1289211390992293, Test loss 0.1368648288122337\n",
      "Epoch 18, Train loss 0.12736801417797225, Test loss 0.13565913047922518\n",
      "Epoch 19, Train loss 0.12565611949307945, Test loss 0.13232731381614735\n",
      "Epoch 20, Train loss 0.12391727470214785, Test loss 0.12999656524691555\n",
      "Epoch 21, Train loss 0.12284706516349517, Test loss 0.13788538708387682\n",
      "Epoch 22, Train loss 0.12162975403832722, Test loss 0.13386430219475298\n",
      "Epoch 23, Train loss 0.11946079591414034, Test loss 0.1304758233592841\n",
      "Epoch 24, Train loss 0.11836942615165655, Test loss 0.13667247408405725\n",
      "Epoch 25, Train loss 0.1171125011279843, Test loss 0.14109821934287387\n",
      "Epoch 26, Train loss 0.11675377812424063, Test loss 0.1311470634810365\n",
      "Epoch 27, Train loss 0.11421372401356486, Test loss 0.13148229773560072\n",
      "Epoch 28, Train loss 0.11379292798646069, Test loss 0.12778693329023308\n",
      "Epoch 29, Train loss 0.11320584010184427, Test loss 0.1370529328990473\n",
      "Epoch 30, Train loss 0.11150784805734573, Test loss 0.12861113372411387\n",
      "Epoch 31, Train loss 0.11045961563868209, Test loss 0.12439323721549318\n",
      "Epoch 32, Train loss 0.10944972600765829, Test loss 0.12893070203752208\n",
      "Epoch 33, Train loss 0.10903349103340883, Test loss 0.1264702541949778\n",
      "Epoch 34, Train loss 0.1075080594318534, Test loss 0.12363784002183749\n",
      "Epoch 35, Train loss 0.10687408559829237, Test loss 0.12419819960028296\n",
      "Epoch 36, Train loss 0.10551639129900306, Test loss 0.12952221852109028\n",
      "Epoch 37, Train loss 0.10588563957955213, Test loss 0.12450713971222573\n",
      "Epoch 38, Train loss 0.1053097477660034, Test loss 0.12694627146639179\n",
      "Epoch 39, Train loss 0.10451772644797235, Test loss 0.1178342485205119\n",
      "Epoch 40, Train loss 0.10274261705596682, Test loss 0.12094546505209894\n",
      "Epoch 41, Train loss 0.10229403834016527, Test loss 0.12642587730202254\n",
      "Epoch 42, Train loss 0.10180625920026701, Test loss 0.12085761442237701\n",
      "Epoch 43, Train loss 0.10130973479071809, Test loss 0.11976589700644388\n",
      "Epoch 44, Train loss 0.1003446223842705, Test loss 0.11795846223421143\n",
      "Epoch 45, Train loss 0.09976618287208333, Test loss 0.13930399382900271\n",
      "Epoch 46, Train loss 0.09957875557885522, Test loss 0.11770990335493202\n",
      "Epoch 47, Train loss 0.0984555991608293, Test loss 0.11835460422738063\n",
      "Epoch 48, Train loss 0.09839606184949709, Test loss 0.1207115210249809\n",
      "Epoch 49, Train loss 0.09745828659855134, Test loss 0.11563597299468822\n",
      "Epoch 50, Train loss 0.09630090944296098, Test loss 0.12453873974805597\n",
      "Epoch 51, Train loss 0.09622302576821239, Test loss 0.11946204723202476\n",
      "Epoch 52, Train loss 0.09545501434042701, Test loss 0.12133731147461614\n",
      "Epoch 53, Train loss 0.09551765315832599, Test loss 0.11622007414094301\n",
      "Epoch 54, Train loss 0.09461692474785327, Test loss 0.11690336772184211\n",
      "Epoch 55, Train loss 0.0944615530039374, Test loss 0.11586833880638851\n",
      "Epoch 56, Train loss 0.09360940034422878, Test loss 0.12160148383556921\n",
      "Epoch 57, Train loss 0.09364598603211083, Test loss 0.12382161621899823\n",
      "Epoch 58, Train loss 0.09295047473291042, Test loss 0.11600412881167277\n",
      "Epoch 59, Train loss 0.09226430355975918, Test loss 0.12759629833707295\n",
      "Epoch 60, Train loss 0.0928002454006827, Test loss 0.11315575536763986\n",
      "Epoch 61, Train loss 0.091128513456108, Test loss 0.11348810889293655\n",
      "Epoch 62, Train loss 0.09067495913991264, Test loss 0.1147600879826614\n",
      "Epoch 63, Train loss 0.09110579403822207, Test loss 0.12167142683752774\n",
      "Epoch 64, Train loss 0.0898135550756772, Test loss 0.1246169619235982\n",
      "Epoch 65, Train loss 0.08905201583665519, Test loss 0.1186001498731596\n",
      "Epoch 66, Train loss 0.08919718223374558, Test loss 0.11450486703418979\n",
      "Epoch 67, Train loss 0.08916520608089498, Test loss 0.12005038736333608\n",
      "Epoch 68, Train loss 0.08781026555007927, Test loss 0.1213338547512967\n",
      "Epoch 69, Train loss 0.08736847386436128, Test loss 0.11660036981254765\n",
      "Epoch 70, Train loss 0.0869006694238646, Test loss 0.11388335286191174\n",
      "Epoch 71, Train loss 0.08710189424034463, Test loss 0.11451225095448454\n",
      "Epoch 72, Train loss 0.08674650788975054, Test loss 0.11680314171889908\n",
      "Epoch 73, Train loss 0.0860942523135846, Test loss 0.12698904963773233\n",
      "Epoch 74, Train loss 0.08571355661320934, Test loss 0.1268413771601942\n",
      "Epoch 75, Train loss 0.08536594831536752, Test loss 0.12134417867561254\n",
      "Epoch 76, Train loss 0.08549544994481972, Test loss 0.11854229577206415\n",
      "Epoch 77, Train loss 0.08428609492808019, Test loss 0.12008411431115343\n",
      "Epoch 78, Train loss 0.08421604907602086, Test loss 0.12354531285044834\n",
      "Epoch 79, Train loss 0.08356587240641725, Test loss 0.11715042297490368\n",
      "Epoch 80, Train loss 0.08435326371562109, Test loss 0.11753088830278617\n",
      "Epoch 81, Train loss 0.08304600147671884, Test loss 0.1144577229429272\n",
      "Epoch 82, Train loss 0.08269452727422903, Test loss 0.12934585085614733\n",
      "Epoch 83, Train loss 0.08215093457358394, Test loss 0.11503986445356616\n",
      "Epoch 84, Train loss 0.08202808458115145, Test loss 0.11521779360672792\n",
      "Epoch 85, Train loss 0.08248955613510595, Test loss 0.11632687658579903\n",
      "Epoch 86, Train loss 0.0816108938274008, Test loss 0.11143607871217055\n",
      "Epoch 87, Train loss 0.08124472573445095, Test loss 0.11784953313189421\n",
      "Epoch 88, Train loss 0.08019212741056908, Test loss 0.1140058046431598\n",
      "Epoch 89, Train loss 0.08165369014626488, Test loss 0.11723008324771207\n",
      "Epoch 90, Train loss 0.08007534049993932, Test loss 0.11936524039923413\n",
      "Epoch 91, Train loss 0.08020953904946206, Test loss 0.11626340220513327\n",
      "Epoch 92, Train loss 0.07928804343270802, Test loss 0.1151604350195986\n",
      "Epoch 93, Train loss 0.07840611098459235, Test loss 0.11043596357090532\n",
      "Epoch 94, Train loss 0.07955770295120601, Test loss 0.11981193142144664\n"
     ]
    }
   ],
   "source": [
    "\n",
    "\n",
    "epochs = 95\n",
    "for epoch in range(epochs):\n",
    "    train_loss = 0.0\n",
    "    test_loss = 0.0\n",
    "    for i, data in enumerate(train_dataloader):\n",
    "        a_inp, a_out = data\n",
    "        optimizer.zero_grad()\n",
    "        predicted_output = net(a_inp)\n",
    "        fit = loss(predicted_output,a_out) # loss(p_out,a_out)\n",
    "        fit.backward()\n",
    "        optimizer.step()\n",
    "        train_loss += fit.item()\n",
    "\n",
    "    for i, data in enumerate(test_dataloader):\n",
    "        with torch.no_grad():\n",
    "            a_inp, a_out = data\n",
    "            predicted_output = net(a_inp)\n",
    "            fit = loss(predicted_output,a_out)\n",
    "            test_loss += fit.item()\n",
    "            predicted = torch.max(predicted_output.data, 1)\n",
    "\n",
    "    train_loss = train_loss/len(train_dataloader)\n",
    "    test_loss = test_loss/len(test_dataloader)\n",
    "    train_loss_history.append(train_loss)\n",
    "    test_loss_history.append(test_loss)\n",
    "    print('Epoch %s, Train loss %s, Test loss %s'%(epoch, train_loss, test_loss))"
   ]
  },
  {
   "cell_type": "code",
   "execution_count": 169,
   "id": "e47ef454",
   "metadata": {},
   "outputs": [
    {
     "data": {
      "text/plain": [
       "<matplotlib.legend.Legend at 0x7f7d28315730>"
      ]
     },
     "execution_count": 169,
     "metadata": {},
     "output_type": "execute_result"
    },
    {
     "data": {
      "image/png": "[encoded data removed]",
      "text/plain": [
       "<Figure size 432x288 with 1 Axes>"
      ]
     },
     "metadata": {
      "needs_background": "light"
     },
     "output_type": "display_data"
    }
   ],
   "source": [
    "plt.plot(range(len(train_loss_history)),train_loss_history,'-',linewidth=3,label='Train error')\n",
    "plt.plot(range(len(test_loss_history)),test_loss_history,'-',linewidth=3,label='Test error')\n",
    "plt.xlabel('epoch')\n",
    "plt.ylabel('loss')\n",
    "plt.grid(True)\n",
    "plt.legend()"
   ]
  },
  {
   "cell_type": "code",
   "execution_count": 170,
   "id": "adaa3adf",
   "metadata": {},
   "outputs": [
    {
     "name": "stdout",
     "output_type": "stream",
     "text": [
      "accuracy is 0.9568912427638872\n"
     ]
    }
   ],
   "source": [
    "correct = 0\n",
    "total = 0\n",
    "\n",
    "for i, data in enumerate(test_dataloader):\n",
    "    with torch.no_grad():\n",
    "        a_inp, a_out = data\n",
    "        predicted_output = net(a_inp)\n",
    "        p_arr = predicted_output.detach().numpy()\n",
    "        a_out = a_out.detach().numpy()\n",
    "        for i in range(len(a_out)):\n",
    "            if abs(p_arr[i] - a_out[i])<0.5:\n",
    "                correct += 1\n",
    "            total += 1\n",
    "\n",
    "print('accuracy is',correct/total)"
   ]
  },
  {
   "cell_type": "code",
   "execution_count": null,
   "id": "b8081ed8",
   "metadata": {},
   "outputs": [],
   "source": []
  }
 ],
 "metadata": {
  "kernelspec": {
   "display_name": "Python 3.8.8 64-bit ('base': conda)",
   "language": "python",
   "name": "python388jvsc74a57bd0c013cb75f3a62cc499443ad8f80e9cdbe9086d1db4cde0c3b9b3ff86d71b210c"
  },
  "language_info": {
   "codemirror_mode": {
    "name": "ipython",
    "version": 3
   },
   "file_extension": ".py",
   "mimetype": "text/x-python",
   "name": "python",
   "nbconvert_exporter": "python",
   "pygments_lexer": "ipython3",
   "version": "3.8.8"
  }
 },
 "nbformat": 4,
 "nbformat_minor": 5
}
