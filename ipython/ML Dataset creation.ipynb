{
 "cells": [
  {
   "cell_type": "code",
   "execution_count": 1,
   "id": "488c49d7",
   "metadata": {},
   "outputs": [],
   "source": [
    "# create a dataset\n",
    "\n",
    "import pandas as pd\n",
    "import numpy as np\n",
    "from collections import defaultdict\n",
    "import random\n",
    "import sys\n",
    "import re\n",
    "\n",
    "sys.path.insert(0,'../decryption')\n",
    "sys.path.insert(0,'../encryption')\n",
    "sys.path.insert(0,'../dictionaries')\n",
    "\n",
    "import encrypt\n",
    "import decrypt\n",
    "import alphabet\n",
    "import frequency"
   ]
  },
  {
   "cell_type": "code",
   "execution_count": 2,
   "id": "a6c67877",
   "metadata": {},
   "outputs": [],
   "source": [
    "with open('../dictionaries/official_dictionary_2_cleaned.txt') as file:\n",
    "    lines = file.readlines()\n"
   ]
  },
  {
   "cell_type": "code",
   "execution_count": 3,
   "id": "8340fd35",
   "metadata": {},
   "outputs": [],
   "source": [
    "DICTIONARY_LIST = []\n",
    "DICTIONARY_SET = set()\n",
    "\n",
    "for line in lines:\n",
    "    line = re.sub('[^A-Za-z0-9]+', '', line.strip())\n",
    "    DICTIONARY_LIST.append(line)\n",
    "    DICTIONARY_SET.add(line)"
   ]
  },
  {
   "cell_type": "code",
   "execution_count": 4,
   "id": "ecf25dfe",
   "metadata": {},
   "outputs": [],
   "source": [
    "TEST_PLAIN_TEXTS = []\n",
    "with open('../dictionaries/official_dictionary_1_cleaned.txt','r') as f:\n",
    "    content = f.readlines()\n",
    "    for line in content:\n",
    "        TEST_PLAIN_TEXTS.append(line.strip())"
   ]
  },
  {
   "cell_type": "code",
   "execution_count": 5,
   "id": "ba5b493f",
   "metadata": {},
   "outputs": [
    {
     "data": {
      "text/plain": [
       "'smeltery glottic proctological pilfers frizzlers farcer assurers pilfers trimmings twirlier trimmings particulate alefs protectional twirlier protectional twirlier leaseback stuffer twirlier frizzlers changeover particulate brickyard assurers publishable lingua protectional alefs tortoni gladding invalided amulets publishable particulate blistered moonset outdates leaseback invalided rankness submerse lacrosses leaseback assurers trimmings lacrosses stuffer smeltery rankness frizzlers twirlier h'"
      ]
     },
     "execution_count": 5,
     "metadata": {},
     "output_type": "execute_result"
    }
   ],
   "source": [
    "import random\n",
    "\n",
    "\" \".join(random.choices(DICTIONARY_LIST,k=200))[:500]\n",
    "\n"
   ]
  },
  {
   "cell_type": "code",
   "execution_count": 7,
   "id": "31550db8",
   "metadata": {},
   "outputs": [],
   "source": [
    "P_MIN = 5\n",
    "P_MAX = 80\n",
    "\n",
    "NUM_SAMPLES = 100\n",
    "\n",
    "total = (P_MAX - P_MIN + 1)*(len(TEST_PLAIN_TEXTS)+1)*NUM_SAMPLES\n",
    "\n",
    "df = pd.DataFrame(columns = ['text','tag'],index=np.arange(0, total))"
   ]
  },
  {
   "cell_type": "code",
   "execution_count": 8,
   "id": "5d7fdfef",
   "metadata": {
    "scrolled": true
   },
   "outputs": [
    {
     "name": "stdout",
     "output_type": "stream",
     "text": [
      "5\n",
      "6\n",
      "7\n",
      "8\n",
      "9\n",
      "10\n",
      "11\n",
      "12\n",
      "13\n",
      "14\n",
      "15\n",
      "16\n",
      "17\n",
      "18\n",
      "19\n",
      "20\n",
      "21\n",
      "22\n",
      "23\n",
      "24\n",
      "25\n",
      "26\n",
      "27\n",
      "28\n",
      "29\n",
      "30\n",
      "31\n",
      "32\n",
      "33\n",
      "34\n",
      "35\n",
      "36\n",
      "37\n",
      "38\n",
      "39\n",
      "40\n",
      "41\n",
      "42\n",
      "43\n",
      "44\n",
      "45\n",
      "46\n",
      "47\n",
      "48\n",
      "49\n",
      "50\n",
      "51\n",
      "52\n",
      "53\n",
      "54\n",
      "55\n",
      "56\n",
      "57\n",
      "58\n",
      "59\n",
      "60\n",
      "61\n",
      "62\n",
      "63\n",
      "64\n",
      "65\n",
      "66\n",
      "67\n",
      "68\n",
      "69\n",
      "70\n",
      "71\n"
     ]
    },
    {
     "ename": "KeyboardInterrupt",
     "evalue": "",
     "output_type": "error",
     "traceback": [
      "\u001b[0;31m---------------------------------------------------------------------------\u001b[0m",
      "\u001b[0;31mKeyboardInterrupt\u001b[0m                         Traceback (most recent call last)",
      "\u001b[0;32m/var/folders/1x/qc9ydz9s4vd2vjjqzx68nt0m0000gn/T/ipykernel_22148/3446242696.py\u001b[0m in \u001b[0;36m<module>\u001b[0;34m\u001b[0m\n\u001b[1;32m     18\u001b[0m         \u001b[0mk_mapping\u001b[0m \u001b[0;34m=\u001b[0m \u001b[0mencrypt\u001b[0m\u001b[0;34m.\u001b[0m\u001b[0mgenerate_key_mapping\u001b[0m\u001b[0;34m(\u001b[0m\u001b[0;34m)\u001b[0m\u001b[0;34m\u001b[0m\u001b[0;34m\u001b[0m\u001b[0m\n\u001b[1;32m     19\u001b[0m         \u001b[0mrow\u001b[0m \u001b[0;34m=\u001b[0m \u001b[0mdict\u001b[0m\u001b[0;34m(\u001b[0m\u001b[0;34m)\u001b[0m\u001b[0;34m\u001b[0m\u001b[0;34m\u001b[0m\u001b[0m\n\u001b[0;32m---> 20\u001b[0;31m         \u001b[0mrow\u001b[0m\u001b[0;34m[\u001b[0m\u001b[0;34m'text'\u001b[0m\u001b[0;34m]\u001b[0m \u001b[0;34m=\u001b[0m \u001b[0mencrypt\u001b[0m\u001b[0;34m.\u001b[0m\u001b[0mencrypt\u001b[0m\u001b[0;34m(\u001b[0m\u001b[0mrandom_plaintxt\u001b[0m\u001b[0;34m,\u001b[0m\u001b[0mk_mapping\u001b[0m\u001b[0;34m,\u001b[0m\u001b[0mp_val\u001b[0m\u001b[0;34m)\u001b[0m\u001b[0;34m\u001b[0m\u001b[0;34m\u001b[0m\u001b[0m\n\u001b[0m\u001b[1;32m     21\u001b[0m         \u001b[0mrow\u001b[0m\u001b[0;34m[\u001b[0m\u001b[0;34m'tag'\u001b[0m\u001b[0;34m]\u001b[0m \u001b[0;34m=\u001b[0m \u001b[0mlen\u001b[0m\u001b[0;34m(\u001b[0m\u001b[0mTEST_PLAIN_TEXTS\u001b[0m\u001b[0;34m)\u001b[0m\u001b[0;34m\u001b[0m\u001b[0;34m\u001b[0m\u001b[0m\n\u001b[1;32m     22\u001b[0m         \u001b[0mdf\u001b[0m\u001b[0;34m.\u001b[0m\u001b[0mloc\u001b[0m\u001b[0;34m[\u001b[0m\u001b[0mitr\u001b[0m\u001b[0;34m]\u001b[0m \u001b[0;34m=\u001b[0m \u001b[0mrow\u001b[0m\u001b[0;34m\u001b[0m\u001b[0;34m\u001b[0m\u001b[0m\n",
      "\u001b[0;32m~/applied_crpyto/applied-crypt-project1/encryption/encrypt.py\u001b[0m in \u001b[0;36mencrypt\u001b[0;34m(user_message, user_key, probability)\u001b[0m\n\u001b[1;32m     52\u001b[0m             \u001b[0mmessage_ptr\u001b[0m \u001b[0;34m+=\u001b[0m \u001b[0;36m1\u001b[0m\u001b[0;34m\u001b[0m\u001b[0;34m\u001b[0m\u001b[0m\n\u001b[1;32m     53\u001b[0m         \u001b[0;32melse\u001b[0m\u001b[0;34m:\u001b[0m  \u001b[0;31m# add a random char\u001b[0m\u001b[0;34m\u001b[0m\u001b[0;34m\u001b[0m\u001b[0m\n\u001b[0;32m---> 54\u001b[0;31m             \u001b[0mrand_char\u001b[0m \u001b[0;34m=\u001b[0m \u001b[0mALPHABET\u001b[0m\u001b[0;34m[\u001b[0m\u001b[0mrandom\u001b[0m\u001b[0;34m.\u001b[0m\u001b[0mrandint\u001b[0m\u001b[0;34m(\u001b[0m\u001b[0;36m0\u001b[0m\u001b[0;34m,\u001b[0m \u001b[0mALPHABET_SIZE\u001b[0m \u001b[0;34m-\u001b[0m \u001b[0;36m1\u001b[0m\u001b[0;34m)\u001b[0m\u001b[0;34m]\u001b[0m \u001b[0;31m# randint is inclusive (a, b)\u001b[0m\u001b[0;34m\u001b[0m\u001b[0;34m\u001b[0m\u001b[0m\n\u001b[0m\u001b[1;32m     55\u001b[0m             \u001b[0mc_text\u001b[0m\u001b[0;34m.\u001b[0m\u001b[0mappend\u001b[0m\u001b[0;34m(\u001b[0m\u001b[0mrand_char\u001b[0m\u001b[0;34m)\u001b[0m\u001b[0;34m\u001b[0m\u001b[0;34m\u001b[0m\u001b[0m\n\u001b[1;32m     56\u001b[0m             \u001b[0mnum_rand_chars\u001b[0m \u001b[0;34m+=\u001b[0m \u001b[0;36m1\u001b[0m\u001b[0;34m\u001b[0m\u001b[0;34m\u001b[0m\u001b[0m\n",
      "\u001b[0;32m~/opt/anaconda3/lib/python3.8/random.py\u001b[0m in \u001b[0;36mrandint\u001b[0;34m(self, a, b)\u001b[0m\n\u001b[1;32m    246\u001b[0m         \"\"\"\n\u001b[1;32m    247\u001b[0m \u001b[0;34m\u001b[0m\u001b[0m\n\u001b[0;32m--> 248\u001b[0;31m         \u001b[0;32mreturn\u001b[0m \u001b[0mself\u001b[0m\u001b[0;34m.\u001b[0m\u001b[0mrandrange\u001b[0m\u001b[0;34m(\u001b[0m\u001b[0ma\u001b[0m\u001b[0;34m,\u001b[0m \u001b[0mb\u001b[0m\u001b[0;34m+\u001b[0m\u001b[0;36m1\u001b[0m\u001b[0;34m)\u001b[0m\u001b[0;34m\u001b[0m\u001b[0;34m\u001b[0m\u001b[0m\n\u001b[0m\u001b[1;32m    249\u001b[0m \u001b[0;34m\u001b[0m\u001b[0m\n\u001b[1;32m    250\u001b[0m     \u001b[0;32mdef\u001b[0m \u001b[0m_randbelow_with_getrandbits\u001b[0m\u001b[0;34m(\u001b[0m\u001b[0mself\u001b[0m\u001b[0;34m,\u001b[0m \u001b[0mn\u001b[0m\u001b[0;34m)\u001b[0m\u001b[0;34m:\u001b[0m\u001b[0;34m\u001b[0m\u001b[0;34m\u001b[0m\u001b[0m\n",
      "\u001b[0;31mKeyboardInterrupt\u001b[0m: "
     ]
    }
   ],
   "source": [
    "# generate 6000 samples for each value of p between 0.05 - 0.95 at a step of 0.01\n",
    "itr = 0\n",
    "row = dict()\n",
    "for p_val in range(P_MIN,P_MAX+1):\n",
    "    print(p_val)\n",
    "    p_val /= 100\n",
    "    \n",
    "    # 1000 cases each for a plain text\n",
    "    for _ in range(NUM_SAMPLES):\n",
    "        for i,txt in enumerate(TEST_PLAIN_TEXTS):\n",
    "            row = dict()\n",
    "            k_mapping = encrypt.generate_key_mapping()\n",
    "            row['text'] = encrypt.encrypt(txt,k_mapping,p_val)\n",
    "            row['tag'] = i\n",
    "            df.loc[itr] = row\n",
    "            itr += 1\n",
    "        random_plaintxt = \" \".join(random.choices(DICTIONARY_LIST,k=200))[:500]\n",
    "        k_mapping = encrypt.generate_key_mapping()\n",
    "        row = dict()\n",
    "        row['text'] = encrypt.encrypt(random_plaintxt,k_mapping,p_val)\n",
    "        row['tag'] = len(TEST_PLAIN_TEXTS) \n",
    "        df.loc[itr] = row\n",
    "        itr += 1\n",
    "    \n",
    "    \n",
    "    \n",
    "    "
   ]
  },
  {
   "cell_type": "code",
   "execution_count": 9,
   "id": "c4254fcd",
   "metadata": {},
   "outputs": [],
   "source": [
    "df.to_csv('dataset.csv',index=False)"
   ]
  },
  {
   "cell_type": "code",
   "execution_count": 19,
   "id": "68e7a3d6",
   "metadata": {
    "scrolled": true
   },
   "outputs": [
    {
     "data": {
      "text/plain": [
       "['underwaists wayfarings fluty analgia refuels transcribing nibbled okra buttonholer venalness hamlet praus apprisers presifted cubital walloper dissembler bunting wizardries squirrel preselect befitted licensee encumbrances proliferations tinkerer egrets recourse churl kolinskies ionospheric docents unnatural scuffler muches petulant acorns subconscious xyster tunelessly boners slag amazement intercapillary manse unsay embezzle stuccoer dissembles batwing valediction iceboxes ketchups phonily con',\n",
       " 'rhomb subrents brasiers render avg tote lesbian dibbers jeopardy struggling urogram furrowed hydrargyrum advertizing cheroots goons congratulation assaulters ictuses indurates wingovers relishes briskly livelihoods inflatable serialized lockboxes cowers holster conciliating parentage yowing restores conformities marted barrettes graphically overdevelop sublimely chokey chinches abstracts rights hockshops bourgeoisie coalition translucent fiascoes panzer mucus capacitated stereotyper omahas produ',\n",
       " 'yorkers peccaries agenda beshrews outboxing biding herons liturgies nonconciliatory elliptical confidants concealable teacups chairmanning proems ecclesiastically shafting nonpossessively doughboy inclusion linden zebroid parabolic misadventures fanciers grovelers requiters catmints hyped necklace rootstock rigorously indissolubility universally burrowers underproduced disillusionment wrestling yellowbellied sherpa unburnt jewelry grange dicker overheats daphnia arteriosclerotic landsat jongleur',\n",
       " 'cygnets chatterers pauline passive expounders cordwains caravel antidisestablishmentarianism syllabubs purled hangdogs clonic murmurers admirable subdialects lockjaws unpatentable jagging negotiated impersonates mammons chumminess semi pinner comprised managership conus turned netherlands temporariness languishers aerate sadists chemistry migraine froggiest sounding rapidly shelving maligning shriek faeries misogynist clarities oversight doylies remodeler tauruses prostrated frugging comestible',\n",
       " 'ovulatory geriatric hijack nonintoxicants prophylactic nonprotective skyhook warehouser paganized brigading european sassier antipasti tallyho warmer portables selling scheming amirate flanker photosensitizer multistage utile paralyzes indexer backrests tarmac doles siphoned casavas mudslinging nonverbal weevil arbitral painted vespertine plexiglass tanker seaworthiness uninterested anathematizing conduces terbiums wheelbarrow kabalas stagnation briskets counterclockwise hearthsides spuriously s']"
      ]
     },
     "execution_count": 19,
     "metadata": {},
     "output_type": "execute_result"
    }
   ],
   "source": [
    "TEST_PLAIN_TEXTS"
   ]
  },
  {
   "cell_type": "code",
   "execution_count": null,
   "id": "aff0bc90",
   "metadata": {},
   "outputs": [],
   "source": []
  },
  {
   "cell_type": "code",
   "execution_count": 21,
   "id": "a2fcc82a",
   "metadata": {},
   "outputs": [
    {
     "data": {
      "text/plain": [
       "[25,\n",
       " 7,\n",
       " 20,\n",
       " 3,\n",
       " 19,\n",
       " 18,\n",
       " 6,\n",
       " 17,\n",
       " 12,\n",
       " 8,\n",
       " 11,\n",
       " 22,\n",
       " 5,\n",
       " 15,\n",
       " 1,\n",
       " 24,\n",
       " 16,\n",
       " 2,\n",
       " 10,\n",
       " 4,\n",
       " 14,\n",
       " 26,\n",
       " 0,\n",
       " 9,\n",
       " 13,\n",
       " 23,\n",
       " 21]"
      ]
     },
     "execution_count": 21,
     "metadata": {},
     "output_type": "execute_result"
    }
   ],
   "source": [
    "k_mapping"
   ]
  },
  {
   "cell_type": "code",
   "execution_count": 20,
   "id": "1bef0010",
   "metadata": {},
   "outputs": [
    {
     "data": {
      "text/plain": [
       "'acsfemghkqk mgvlgehcbk lzaqv gcgzbhg qeflafzk qegckwehpnhcb chppzfs xreg paqqxcsuxzmfe nfcgzcfkk ugdzfqt tegak gttehkfek tefkhl qfs waphqgz mgzzxtfe shkkfodpzfe paycqhcb mhogesehfkv kiaheefz tefkfzfwq wpflhqqfs zhwfckff fcwadpemgcwfk texzhlfegqhxck qhcrfefe fbefqk efwxaekf wuaez rxzhckrhfk hxcxktufehw sxwfcqk accgqaegz kwallozfep dawuffk trfqazgcqo gwxeck kapwxckwhxak jvkqfe qacfzfkkzv pxcfek kzgb gdgofdfcq hcqfewgthzzgev dgckf acckkgv fdpfoozfj kqawwxfe shkkfgdpzfk pgqfmhcb ngzfshwqhxc hwfpxjfk rfqwuat k tuxchzv wxc'"
      ]
     },
     "execution_count": 20,
     "metadata": {},
     "output_type": "execute_result"
    }
   ],
   "source": [
    "df.text[0]"
   ]
  }
 ],
 "metadata": {
  "kernelspec": {
   "display_name": "Python 3.8.8 64-bit ('base': conda)",
   "language": "python",
   "name": "python388jvsc74a57bd0c013cb75f3a62cc499443ad8f80e9cdbe9086d1db4cde0c3b9b3ff86d71b210c"
  },
  "language_info": {
   "codemirror_mode": {
    "name": "ipython",
    "version": 3
   },
   "file_extension": ".py",
   "mimetype": "text/x-python",
   "name": "python",
   "nbconvert_exporter": "python",
   "pygments_lexer": "ipython3",
   "version": "3.8.8"
  }
 },
 "nbformat": 4,
 "nbformat_minor": 5
}
