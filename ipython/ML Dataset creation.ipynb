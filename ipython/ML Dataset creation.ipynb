{
 "cells": [
  {
   "cell_type": "code",
   "execution_count": 1,
   "id": "488c49d7",
   "metadata": {},
   "outputs": [],
   "source": [
    "# create a dataset\n",
    "\n",
    "import pandas as pd\n",
    "import numpy as np\n",
    "from collections import defaultdict\n",
    "import random\n",
    "import sys\n",
    "import re\n",
    "\n",
    "sys.path.insert(0,'../decryption')\n",
    "sys.path.insert(0,'../encryption')\n",
    "sys.path.insert(0,'../dictionaries')\n",
    "\n",
    "import encrypt\n",
    "import decrypt\n",
    "import alphabet\n",
    "import frequency"
   ]
  },
  {
   "cell_type": "code",
   "execution_count": 2,
   "id": "a6c67877",
   "metadata": {},
   "outputs": [],
   "source": [
    "with open('../dictionaries/official_dictionary_2_cleaned.txt') as file:\n",
    "    lines = file.readlines()\n"
   ]
  },
  {
   "cell_type": "code",
   "execution_count": 3,
   "id": "8340fd35",
   "metadata": {},
   "outputs": [],
   "source": [
    "DICTIONARY_LIST = []\n",
    "DICTIONARY_SET = set()\n",
    "\n",
    "for line in lines:\n",
    "    line = re.sub('[^A-Za-z0-9]+', '', line.strip())\n",
    "    DICTIONARY_LIST.append(line)\n",
    "    DICTIONARY_SET.add(line)"
   ]
  },
  {
   "cell_type": "code",
   "execution_count": 4,
   "id": "ecf25dfe",
   "metadata": {},
   "outputs": [],
   "source": [
    "TEST_PLAIN_TEXTS = []\n",
    "with open('../dictionaries/official_dictionary_1_cleaned.txt','r') as f:\n",
    "    content = f.readlines()\n",
    "    for line in content:\n",
    "        TEST_PLAIN_TEXTS.append(line.strip())"
   ]
  },
  {
   "cell_type": "code",
   "execution_count": 11,
   "id": "ba5b493f",
   "metadata": {},
   "outputs": [
    {
     "data": {
      "text/plain": [
       "'changeover glottic freaking proctological publishable smeltery alefs glottic baldpates changeover outdates submerse frizzlers frizzlers tortoni moonset rankness glottic submerse favouring clarence blistered leaseback twirlier trimmings glottic hyped stolonic harshens brickyard outdates rotates rotates stuffer clarence assurers outdates rotates favouring lingua glottic farcer blistered changeover pilfers invalided rankness pilfers changeover outflanked favouring stolonic frizzlers assurers hyped '"
      ]
     },
     "execution_count": 11,
     "metadata": {},
     "output_type": "execute_result"
    }
   ],
   "source": [
    "import random\n",
    "\n",
    "\" \".join(random.choices(DICTIONARY_LIST,k=200))[:500]\n",
    "\n"
   ]
  },
  {
   "cell_type": "code",
   "execution_count": 22,
   "id": "31550db8",
   "metadata": {},
   "outputs": [],
   "source": [
    "P_MIN = 5\n",
    "P_MAX = 80\n",
    "\n",
    "NUM_SAMPLES = 500\n",
    "\n",
    "total = (P_MAX - P_MIN + 1)*(len(TEST_PLAIN_TEXTS)+1)*NUM_SAMPLES\n",
    "\n",
    "df = pd.DataFrame(columns = ['text','tag'],index=np.arange(0, total))"
   ]
  },
  {
   "cell_type": "code",
   "execution_count": 23,
   "id": "5d7fdfef",
   "metadata": {
    "scrolled": true
   },
   "outputs": [
    {
     "name": "stdout",
     "output_type": "stream",
     "text": [
      "5\n",
      "6\n",
      "7\n",
      "8\n",
      "9\n",
      "10\n",
      "11\n",
      "12\n",
      "13\n",
      "14\n",
      "15\n",
      "16\n",
      "17\n",
      "18\n",
      "19\n",
      "20\n",
      "21\n",
      "22\n",
      "23\n",
      "24\n",
      "25\n",
      "26\n",
      "27\n",
      "28\n",
      "29\n",
      "30\n",
      "31\n",
      "32\n",
      "33\n",
      "34\n",
      "35\n",
      "36\n",
      "37\n",
      "38\n",
      "39\n",
      "40\n",
      "41\n",
      "42\n",
      "43\n",
      "44\n",
      "45\n",
      "46\n",
      "47\n",
      "48\n",
      "49\n",
      "50\n",
      "51\n",
      "52\n",
      "53\n",
      "54\n",
      "55\n",
      "56\n",
      "57\n",
      "58\n",
      "59\n",
      "60\n",
      "61\n",
      "62\n",
      "63\n",
      "64\n",
      "65\n",
      "66\n",
      "67\n",
      "68\n",
      "69\n",
      "70\n",
      "71\n",
      "72\n",
      "73\n",
      "74\n",
      "75\n",
      "76\n",
      "77\n",
      "78\n",
      "79\n",
      "80\n"
     ]
    }
   ],
   "source": [
    "# generate 6000 samples for each value of p between 0.05 - 0.95 at a step of 0.01\n",
    "itr = 0\n",
    "row = dict()\n",
    "for p_val in range(P_MIN,P_MAX+1):\n",
    "    print(p_val)\n",
    "    p_val /= 100\n",
    "    \n",
    "    # 1000 cases each for a plain text\n",
    "    for _ in range(NUM_SAMPLES):\n",
    "        for i,txt in enumerate(TEST_PLAIN_TEXTS):\n",
    "            row = dict()\n",
    "            k_mapping = encrypt.generate_key_mapping()\n",
    "            row['text'] = encrypt.encrypt(txt,k_mapping,p_val)\n",
    "            row['tag'] = i\n",
    "            df.loc[itr] = row\n",
    "            itr += 1\n",
    "        random_plaintxt = \" \".join(random.choices(DICTIONARY_LIST,k=200))[:500]\n",
    "        k_mapping = encrypt.generate_key_mapping()\n",
    "        row = dict()\n",
    "        row['text'] = encrypt.encrypt(random_plaintxt,k_mapping,p_val)\n",
    "        row['tag'] = len(TEST_PLAIN_TEXTS) \n",
    "        df.loc[itr] = row\n",
    "        itr += 1\n",
    "    \n",
    "    \n",
    "    \n",
    "    "
   ]
  },
  {
   "cell_type": "code",
   "execution_count": 24,
   "id": "c4254fcd",
   "metadata": {},
   "outputs": [],
   "source": [
    "df.to_csv('dataset.csv',index=False)"
   ]
  },
  {
   "cell_type": "code",
   "execution_count": 19,
   "id": "68e7a3d6",
   "metadata": {
    "scrolled": true
   },
   "outputs": [
    {
     "data": {
      "text/plain": [
       "['underwaists wayfarings fluty analgia refuels transcribing nibbled okra buttonholer venalness hamlet praus apprisers presifted cubital walloper dissembler bunting wizardries squirrel preselect befitted licensee encumbrances proliferations tinkerer egrets recourse churl kolinskies ionospheric docents unnatural scuffler muches petulant acorns subconscious xyster tunelessly boners slag amazement intercapillary manse unsay embezzle stuccoer dissembles batwing valediction iceboxes ketchups phonily con',\n",
       " 'rhomb subrents brasiers render avg tote lesbian dibbers jeopardy struggling urogram furrowed hydrargyrum advertizing cheroots goons congratulation assaulters ictuses indurates wingovers relishes briskly livelihoods inflatable serialized lockboxes cowers holster conciliating parentage yowing restores conformities marted barrettes graphically overdevelop sublimely chokey chinches abstracts rights hockshops bourgeoisie coalition translucent fiascoes panzer mucus capacitated stereotyper omahas produ',\n",
       " 'yorkers peccaries agenda beshrews outboxing biding herons liturgies nonconciliatory elliptical confidants concealable teacups chairmanning proems ecclesiastically shafting nonpossessively doughboy inclusion linden zebroid parabolic misadventures fanciers grovelers requiters catmints hyped necklace rootstock rigorously indissolubility universally burrowers underproduced disillusionment wrestling yellowbellied sherpa unburnt jewelry grange dicker overheats daphnia arteriosclerotic landsat jongleur',\n",
       " 'cygnets chatterers pauline passive expounders cordwains caravel antidisestablishmentarianism syllabubs purled hangdogs clonic murmurers admirable subdialects lockjaws unpatentable jagging negotiated impersonates mammons chumminess semi pinner comprised managership conus turned netherlands temporariness languishers aerate sadists chemistry migraine froggiest sounding rapidly shelving maligning shriek faeries misogynist clarities oversight doylies remodeler tauruses prostrated frugging comestible',\n",
       " 'ovulatory geriatric hijack nonintoxicants prophylactic nonprotective skyhook warehouser paganized brigading european sassier antipasti tallyho warmer portables selling scheming amirate flanker photosensitizer multistage utile paralyzes indexer backrests tarmac doles siphoned casavas mudslinging nonverbal weevil arbitral painted vespertine plexiglass tanker seaworthiness uninterested anathematizing conduces terbiums wheelbarrow kabalas stagnation briskets counterclockwise hearthsides spuriously s']"
      ]
     },
     "execution_count": 19,
     "metadata": {},
     "output_type": "execute_result"
    }
   ],
   "source": [
    "TEST_PLAIN_TEXTS"
   ]
  },
  {
   "cell_type": "code",
   "execution_count": null,
   "id": "aff0bc90",
   "metadata": {},
   "outputs": [],
   "source": []
  },
  {
   "cell_type": "code",
   "execution_count": 21,
   "id": "a2fcc82a",
   "metadata": {},
   "outputs": [
    {
     "data": {
      "text/plain": [
       "[25,\n",
       " 7,\n",
       " 20,\n",
       " 3,\n",
       " 19,\n",
       " 18,\n",
       " 6,\n",
       " 17,\n",
       " 12,\n",
       " 8,\n",
       " 11,\n",
       " 22,\n",
       " 5,\n",
       " 15,\n",
       " 1,\n",
       " 24,\n",
       " 16,\n",
       " 2,\n",
       " 10,\n",
       " 4,\n",
       " 14,\n",
       " 26,\n",
       " 0,\n",
       " 9,\n",
       " 13,\n",
       " 23,\n",
       " 21]"
      ]
     },
     "execution_count": 21,
     "metadata": {},
     "output_type": "execute_result"
    }
   ],
   "source": [
    "k_mapping"
   ]
  },
  {
   "cell_type": "code",
   "execution_count": 20,
   "id": "1bef0010",
   "metadata": {},
   "outputs": [
    {
     "data": {
      "text/plain": [
       "'acsfemghkqk mgvlgehcbk lzaqv gcgzbhg qeflafzk qegckwehpnhcb chppzfs xreg paqqxcsuxzmfe nfcgzcfkk ugdzfqt tegak gttehkfek tefkhl qfs waphqgz mgzzxtfe shkkfodpzfe paycqhcb mhogesehfkv kiaheefz tefkfzfwq wpflhqqfs zhwfckff fcwadpemgcwfk texzhlfegqhxck qhcrfefe fbefqk efwxaekf wuaez rxzhckrhfk hxcxktufehw sxwfcqk accgqaegz kwallozfep dawuffk trfqazgcqo gwxeck kapwxckwhxak jvkqfe qacfzfkkzv pxcfek kzgb gdgofdfcq hcqfewgthzzgev dgckf acckkgv fdpfoozfj kqawwxfe shkkfgdpzfk pgqfmhcb ngzfshwqhxc hwfpxjfk rfqwuat k tuxchzv wxc'"
      ]
     },
     "execution_count": 20,
     "metadata": {},
     "output_type": "execute_result"
    }
   ],
   "source": [
    "df.text[0]"
   ]
  }
 ],
 "metadata": {
  "kernelspec": {
   "display_name": "Python 3.8.8 64-bit ('base': conda)",
   "language": "python",
   "name": "python388jvsc74a57bd0c013cb75f3a62cc499443ad8f80e9cdbe9086d1db4cde0c3b9b3ff86d71b210c"
  },
  "language_info": {
   "codemirror_mode": {
    "name": "ipython",
    "version": 3
   },
   "file_extension": ".py",
   "mimetype": "text/x-python",
   "name": "python",
   "nbconvert_exporter": "python",
   "pygments_lexer": "ipython3",
   "version": "3.8.8"
  }
 },
 "nbformat": 4,
 "nbformat_minor": 5
}
